{
 "cells": [
  {
   "cell_type": "markdown",
   "id": "9e86b8d6-565d-47fd-abc5-514f4f3bd007",
   "metadata": {},
   "source": [
    "# MakeMore\n",
    "makemore takes one text file as input, where each line is assumed to be one training thing, and generates more things like it. Under the hood, it is an autoregressive character-level language model, with a wide choice of models from bigrams all the way to a Transformer (exactly as seen in GPT). For example, we can feed it a database of names, and makemore will generate cool baby name ideas that all sound name-like, but are not already existing names. Or if we feed it a database of company names then we can generate new ideas for a name of a company. Or we can just feed it valid scrabble words and generate english-like babble."
   ]
  },
  {
   "cell_type": "code",
   "execution_count": 45,
   "id": "261ec5fe-b3ae-42cc-9434-38c11d26bb2b",
   "metadata": {},
   "outputs": [],
   "source": [
    "words = open('names.txt', 'r').read().splitlines()"
   ]
  },
  {
   "cell_type": "code",
   "execution_count": 47,
   "id": "c5cb7870-deaf-42a6-94be-a63b1f0eed45",
   "metadata": {},
   "outputs": [
    {
     "data": {
      "text/plain": [
       "['emma',\n",
       " 'olivia',\n",
       " 'ava',\n",
       " 'isabella',\n",
       " 'sophia',\n",
       " 'charlotte',\n",
       " 'mia',\n",
       " 'amelia',\n",
       " 'harper',\n",
       " 'evelyn']"
      ]
     },
     "execution_count": 47,
     "metadata": {},
     "output_type": "execute_result"
    }
   ],
   "source": [
    "words[:10]"
   ]
  },
  {
   "cell_type": "code",
   "execution_count": 49,
   "id": "cdb1865d-3895-4af2-ac4c-f148aaa5105a",
   "metadata": {},
   "outputs": [
    {
     "data": {
      "text/plain": [
       "32033"
      ]
     },
     "execution_count": 49,
     "metadata": {},
     "output_type": "execute_result"
    }
   ],
   "source": [
    "len(words)"
   ]
  },
  {
   "cell_type": "code",
   "execution_count": 51,
   "id": "b3d68914-c852-44f4-80f4-7b43d3a9f479",
   "metadata": {},
   "outputs": [
    {
     "data": {
      "text/plain": [
       "['emma',\n",
       " 'olivia',\n",
       " 'ava',\n",
       " 'isabella',\n",
       " 'sophia',\n",
       " 'charlotte',\n",
       " 'mia',\n",
       " 'amelia',\n",
       " 'harper',\n",
       " 'evelyn']"
      ]
     },
     "execution_count": 51,
     "metadata": {},
     "output_type": "execute_result"
    }
   ],
   "source": [
    "words2 = open('IN.txt', 'r').read().splitlines()\n",
    "words[:10]"
   ]
  },
  {
   "cell_type": "code",
   "execution_count": 53,
   "id": "9f0d6af7-2eb5-453a-afcd-cfc8587ac6b4",
   "metadata": {},
   "outputs": [
    {
     "data": {
      "text/plain": [
       "38519"
      ]
     },
     "execution_count": 53,
     "metadata": {},
     "output_type": "execute_result"
    }
   ],
   "source": [
    "words = words + words2\n",
    "len(words)"
   ]
  },
  {
   "cell_type": "code",
   "execution_count": 55,
   "id": "9749c12b-be89-4c53-862e-2a9bbd6661dd",
   "metadata": {},
   "outputs": [
    {
     "data": {
      "text/plain": [
       "2"
      ]
     },
     "execution_count": 55,
     "metadata": {},
     "output_type": "execute_result"
    }
   ],
   "source": [
    "min(len(w) for w in words)"
   ]
  },
  {
   "cell_type": "code",
   "execution_count": 57,
   "id": "f2eb50a3-79ba-4b8d-a2c5-7955fa83b7df",
   "metadata": {},
   "outputs": [
    {
     "data": {
      "text/plain": [
       "19"
      ]
     },
     "execution_count": 57,
     "metadata": {},
     "output_type": "execute_result"
    }
   ],
   "source": [
    "max(len(w) for w in words)"
   ]
  },
  {
   "cell_type": "code",
   "execution_count": 59,
   "id": "2740b170-97a1-486b-ac0e-5dcc838c1727",
   "metadata": {},
   "outputs": [
    {
     "data": {
      "text/plain": [
       "['lllllllllllllllllll']"
      ]
     },
     "execution_count": 59,
     "metadata": {},
     "output_type": "execute_result"
    }
   ],
   "source": [
    "[w for w in words if len(w) == 19]"
   ]
  },
  {
   "cell_type": "code",
   "execution_count": 61,
   "id": "731bc884-1614-4a60-b91a-1871ad24bb04",
   "metadata": {},
   "outputs": [],
   "source": [
    "words.remove('lllllllllllllllllll')"
   ]
  },
  {
   "cell_type": "code",
   "execution_count": 63,
   "id": "e3530c77-0ac6-4113-b23b-4c0cce3d8d13",
   "metadata": {},
   "outputs": [
    {
     "data": {
      "text/plain": [
       "15"
      ]
     },
     "execution_count": 63,
     "metadata": {},
     "output_type": "execute_result"
    }
   ],
   "source": [
    "max(len(w) for w in words)"
   ]
  },
  {
   "cell_type": "code",
   "execution_count": 65,
   "id": "3630b840-01ef-489e-b1dd-ee28d8482277",
   "metadata": {},
   "outputs": [
    {
     "data": {
      "text/plain": [
       "['muhammadibrahim', 'muhammadmustafa', 'warnakulasuriya']"
      ]
     },
     "execution_count": 65,
     "metadata": {},
     "output_type": "execute_result"
    }
   ],
   "source": [
    "[w for w in words if len(w) == 15]"
   ]
  },
  {
   "cell_type": "markdown",
   "id": "a99c50f3-fbab-4b47-8699-8b892fee1707",
   "metadata": {},
   "source": [
    "### Bigram Model"
   ]
  },
  {
   "cell_type": "code",
   "execution_count": 69,
   "id": "2e5794aa-5a4f-46f3-b682-627a1cfc2378",
   "metadata": {},
   "outputs": [
    {
     "data": {
      "text/plain": [
       "['emma', 'olivia', 'ava']"
      ]
     },
     "execution_count": 69,
     "metadata": {},
     "output_type": "execute_result"
    }
   ],
   "source": [
    "words[:3]"
   ]
  },
  {
   "cell_type": "code",
   "execution_count": 83,
   "id": "9c8525dd-60f4-4414-954b-b537b4038e78",
   "metadata": {},
   "outputs": [],
   "source": [
    "b = {}\n",
    "for w in words:\n",
    "    chs = ['<S>'] + list(w) + ['<E>']\n",
    "    for ch1, ch2 in zip(chs, chs[1:]):\n",
    "        bigram = (ch1, ch2)\n",
    "        b[bigram] = b.get(bigram, 0) + 1"
   ]
  },
  {
   "cell_type": "code",
   "execution_count": 91,
   "id": "b3b1d065-dfbe-4e71-9b54-ace844da9a2f",
   "metadata": {
    "scrolled": true
   },
   "outputs": [
    {
     "data": {
      "text/plain": [
       "[(('a', '<E>'), 8193),\n",
       " (('n', '<E>'), 7390),\n",
       " (('a', 'n'), 6841),\n",
       " (('<S>', 'a'), 4998),\n",
       " (('a', 'r'), 4197),\n",
       " (('e', '<E>'), 4077),\n",
       " (('n', 'a'), 3691),\n",
       " (('r', 'i'), 3429),\n",
       " (('h', 'a'), 3415),\n",
       " (('i', '<E>'), 3408),\n",
       " (('r', 'a'), 3371),\n",
       " (('<S>', 'k'), 3343),\n",
       " (('e', 'l'), 3318),\n",
       " (('<S>', 's'), 3280),\n",
       " (('m', 'a'), 3220),\n",
       " (('<S>', 'm'), 3088),\n",
       " (('a', 'l'), 3078),\n",
       " (('l', 'e'), 3008),\n",
       " (('l', 'a'), 3007),\n",
       " (('e', 'n'), 2993),\n",
       " (('h', '<E>'), 2817),\n",
       " (('<S>', 'j'), 2719),\n",
       " (('l', 'i'), 2649),\n",
       " (('i', 'n'), 2605),\n",
       " (('a', 'h'), 2555),\n",
       " (('s', 'h'), 2522),\n",
       " (('y', 'a'), 2515),\n",
       " (('i', 'a'), 2484),\n",
       " (('o', 'n'), 2477),\n",
       " (('a', 'm'), 2293),\n",
       " (('e', 'r'), 2264),\n",
       " (('a', 'y'), 2192),\n",
       " (('<S>', 'r'), 2190),\n",
       " (('k', 'a'), 2132),\n",
       " (('y', '<E>'), 2127),\n",
       " (('n', 'i'), 2050),\n",
       " (('<S>', 'd'), 1986),\n",
       " (('n', 'n'), 1971),\n",
       " (('r', '<E>'), 1951),\n",
       " (('r', 'e'), 1877),\n",
       " (('y', 'n'), 1834),\n",
       " (('a', 'i'), 1832),\n",
       " (('j', 'a'), 1817),\n",
       " (('s', 'a'), 1806),\n",
       " (('e', 'e'), 1774),\n",
       " (('l', '<E>'), 1707),\n",
       " (('<S>', 'b'), 1704),\n",
       " (('<S>', 'l'), 1696),\n",
       " (('<S>', 'c'), 1682),\n",
       " (('i', 'e'), 1666),\n",
       " (('l', 'y'), 1607),\n",
       " (('i', 's'), 1602),\n",
       " (('d', 'e'), 1596),\n",
       " (('<S>', 'e'), 1549),\n",
       " (('d', 'a'), 1534),\n",
       " (('i', 'l'), 1533),\n",
       " (('a', 's'), 1522),\n",
       " (('<S>', 'n'), 1507),\n",
       " (('<S>', 't'), 1486),\n",
       " (('n', 'e'), 1474),\n",
       " (('m', 'i'), 1467),\n",
       " (('t', 'a'), 1415),\n",
       " (('l', 'l'), 1380),\n",
       " (('a', 'd'), 1269),\n",
       " (('s', '<E>'), 1224),\n",
       " (('v', 'i'), 1158),\n",
       " (('h', 'i'), 1151),\n",
       " (('o', 'r'), 1129),\n",
       " (('i', 'r'), 1122),\n",
       " (('n', 'd'), 1107),\n",
       " (('y', 'l'), 1105),\n",
       " (('e', 's'), 1102),\n",
       " (('e', 'y'), 1094),\n",
       " (('<S>', 'h'), 1070),\n",
       " (('a', 't'), 1070),\n",
       " (('a', 'v'), 998),\n",
       " (('m', 'e'), 971),\n",
       " (('k', 'e'), 970),\n",
       " (('r', 'o'), 957),\n",
       " (('<S>', 'z'), 954),\n",
       " (('s', 'e'), 951),\n",
       " (('o', '<E>'), 937),\n",
       " (('c', 'h'), 924),\n",
       " (('z', 'a'), 909),\n",
       " (('i', 'y'), 903),\n",
       " (('<S>', 'g'), 897),\n",
       " (('<S>', 'p'), 894),\n",
       " (('d', 'i'), 874),\n",
       " (('b', 'r'), 872),\n",
       " (('s', 'i'), 867),\n",
       " (('m', '<E>'), 861),\n",
       " (('e', 'm'), 851),\n",
       " (('h', 'e'), 829),\n",
       " (('c', 'a'), 822),\n",
       " (('e', 'i'), 822),\n",
       " (('a', 'k'), 822),\n",
       " (('t', 'i'), 811),\n",
       " (('i', 't'), 807),\n",
       " (('s', 't'), 805),\n",
       " (('r', 'y'), 794),\n",
       " (('t', '<E>'), 784),\n",
       " (('v', 'a'), 779),\n",
       " (('t', 'e'), 778),\n",
       " (('a', 'b'), 776),\n",
       " (('e', 't'), 753),\n",
       " (('t', 'h'), 750),\n",
       " (('l', 'o'), 726),\n",
       " (('d', '<E>'), 707),\n",
       " (('a', 'a'), 706),\n",
       " (('b', 'e'), 705),\n",
       " (('t', 'o'), 704),\n",
       " (('a', 'e'), 701),\n",
       " (('<S>', 'i'), 691),\n",
       " (('v', 'e'), 688),\n",
       " (('e', 'a'), 685),\n",
       " (('o', 'l'), 679),\n",
       " (('u', 's'), 651),\n",
       " (('k', 'i'), 642),\n",
       " (('s', 'o'), 615),\n",
       " (('u', 'r'), 608),\n",
       " (('n', 't'), 598),\n",
       " (('i', 'm'), 593),\n",
       " (('i', 'k'), 592),\n",
       " (('<S>', 'y'), 592),\n",
       " (('i', 'o'), 590),\n",
       " (('b', 'a'), 582),\n",
       " (('o', 's'), 569),\n",
       " (('n', 'o'), 562),\n",
       " (('m', 'o'), 560),\n",
       " (('i', 'd'), 559),\n",
       " (('<S>', 'v'), 558),\n",
       " (('c', 'e'), 557),\n",
       " (('j', 'e'), 552),\n",
       " (('a', 'z'), 538),\n",
       " (('e', 'v'), 534),\n",
       " (('i', 'c'), 533),\n",
       " (('d', 'r'), 526),\n",
       " (('p', 'a'), 526),\n",
       " (('<S>', 'f'), 524),\n",
       " (('j', 'o'), 517),\n",
       " (('w', 'a'), 512),\n",
       " (('a', 'c'), 503),\n",
       " (('n', 'y'), 491),\n",
       " (('u', 'l'), 483),\n",
       " (('k', 'h'), 477),\n",
       " (('s', 's'), 471),\n",
       " (('a', 'j'), 465),\n",
       " (('k', '<E>'), 460),\n",
       " (('g', 'a'), 456),\n",
       " (('u', 'n'), 454),\n",
       " (('s', 'u'), 442),\n",
       " (('u', '<E>'), 442),\n",
       " (('a', 'u'), 441),\n",
       " (('i', 'g'), 437),\n",
       " (('r', 'r'), 433),\n",
       " (('<S>', 'o'), 423),\n",
       " (('r', 'l'), 422),\n",
       " (('e', 'd'), 418),\n",
       " (('t', 'r'), 416),\n",
       " (('r', 'u'), 413),\n",
       " (('g', 'h'), 408),\n",
       " (('y', 's'), 408),\n",
       " (('z', 'i'), 406),\n",
       " (('t', 't'), 405),\n",
       " (('d', 'o'), 398),\n",
       " (('h', 'o'), 395),\n",
       " (('k', 'y'), 394),\n",
       " (('b', 'i'), 385),\n",
       " (('t', 'y'), 384),\n",
       " (('c', 'o'), 383),\n",
       " (('z', 'e'), 378),\n",
       " (('h', 'u'), 376),\n",
       " (('g', 'e'), 371),\n",
       " (('k', 'o'), 370),\n",
       " (('l', 'u'), 368),\n",
       " (('n', 's'), 364),\n",
       " (('f', 'a'), 349),\n",
       " (('n', 'g'), 347),\n",
       " (('d', 'h'), 329),\n",
       " (('c', 'k'), 328),\n",
       " (('d', 'y'), 326),\n",
       " (('<S>', 'w'), 325),\n",
       " (('o', 'm'), 319),\n",
       " (('y', 'e'), 313),\n",
       " (('i', 'v'), 311),\n",
       " (('p', 'r'), 306),\n",
       " (('u', 'd'), 295),\n",
       " (('o', 'u'), 294),\n",
       " (('s', 'l'), 293),\n",
       " (('y', 'r'), 293),\n",
       " (('i', 'z'), 291),\n",
       " (('m', 'y'), 291),\n",
       " (('h', 'r'), 291),\n",
       " (('y', 'o'), 291),\n",
       " (('u', 'm'), 284),\n",
       " (('b', 'h'), 281),\n",
       " (('m', 'u'), 280),\n",
       " (('y', 'd'), 277),\n",
       " (('a', 'g'), 274),\n",
       " (('c', 'i'), 272),\n",
       " (('e', 'o'), 271),\n",
       " (('j', 'u'), 269),\n",
       " (('r', 's'), 262),\n",
       " (('r', 't'), 260),\n",
       " (('h', 'y'), 247),\n",
       " (('o', 'o'), 245),\n",
       " (('g', 'i'), 244),\n",
       " (('n', 'c'), 243),\n",
       " (('p', 'e'), 241),\n",
       " (('r', 'm'), 241),\n",
       " (('j', 'i'), 241),\n",
       " (('o', 'h'), 240),\n",
       " (('a', 'w'), 235),\n",
       " (('p', 'h'), 233),\n",
       " (('o', 'd'), 225),\n",
       " (('e', 'k'), 225),\n",
       " (('s', 'y'), 224),\n",
       " (('r', 'd'), 224),\n",
       " (('d', 'd'), 222),\n",
       " (('g', 'r'), 216),\n",
       " (('e', 'h'), 212),\n",
       " (('q', 'u'), 211),\n",
       " (('n', 'l'), 207),\n",
       " (('z', '<E>'), 205),\n",
       " (('h', 'n'), 203),\n",
       " (('h', 'l'), 202),\n",
       " (('n', 'u'), 202),\n",
       " (('a', 'f'), 201),\n",
       " (('f', 'i'), 199),\n",
       " (('y', 'i'), 198),\n",
       " (('a', 'x'), 196),\n",
       " (('b', '<E>'), 194),\n",
       " (('j', '<E>'), 194),\n",
       " (('m', 'm'), 192),\n",
       " (('e', 'z'), 187),\n",
       " (('o', 'v'), 184),\n",
       " (('g', 'u'), 184),\n",
       " (('u', 'k'), 180),\n",
       " (('i', 'b'), 179),\n",
       " (('w', 'e'), 175),\n",
       " (('w', 'i'), 173),\n",
       " (('h', 'm'), 171),\n",
       " (('u', 'b'), 170),\n",
       " (('r', 'n'), 170),\n",
       " (('u', 'e'), 170),\n",
       " (('o', 'b'), 170),\n",
       " (('k', 'u'), 169),\n",
       " (('u', 'a'), 168),\n",
       " (('o', 't'), 167),\n",
       " (('x', '<E>'), 165),\n",
       " (('y', 'u'), 164),\n",
       " (('d', 'u'), 157),\n",
       " (('t', 'u'), 155),\n",
       " (('e', 'c'), 155),\n",
       " (('o', 'a'), 153),\n",
       " (('v', 'o'), 153),\n",
       " (('n', 'k'), 153),\n",
       " (('k', 's'), 153),\n",
       " (('y', 'm'), 153),\n",
       " (('l', 'd'), 151),\n",
       " (('k', 'r'), 151),\n",
       " (('z', 'y'), 149),\n",
       " (('v', '<E>'), 148),\n",
       " (('k', 'l'), 147),\n",
       " (('n', 'z'), 147),\n",
       " (('t', 'l'), 146),\n",
       " (('m', 'r'), 146),\n",
       " (('m', 'b'), 145),\n",
       " (('e', 'p'), 144),\n",
       " (('e', 'g'), 143),\n",
       " (('e', 'b'), 140),\n",
       " (('r', 'h'), 138),\n",
       " (('n', 'j'), 138),\n",
       " (('<S>', 'u'), 136),\n",
       " (('<S>', 'x'), 134),\n",
       " (('f', 'e'), 134),\n",
       " (('s', 'm'), 133),\n",
       " (('a', 'p'), 133),\n",
       " (('o', 'e'), 132),\n",
       " (('e', 'x'), 132),\n",
       " (('i', 'f'), 131),\n",
       " (('i', 'j'), 130),\n",
       " (('f', 'r'), 129),\n",
       " (('v', 'y'), 128),\n",
       " (('b', 'o'), 128),\n",
       " (('u', 'i'), 125),\n",
       " (('g', '<E>'), 125),\n",
       " (('g', 'o'), 124),\n",
       " (('r', 'v'), 124),\n",
       " (('z', 'l'), 123),\n",
       " (('u', 'c'), 122),\n",
       " (('o', 'p'), 121),\n",
       " (('r', 'k'), 121),\n",
       " (('o', 'c'), 120),\n",
       " (('o', 'w'), 118),\n",
       " (('o', 'y'), 118),\n",
       " (('l', 's'), 117),\n",
       " (('c', 'l'), 116),\n",
       " (('y', 'c'), 116),\n",
       " (('b', 'u'), 116),\n",
       " (('f', '<E>'), 113),\n",
       " (('z', 'o'), 112),\n",
       " (('i', 'u'), 112),\n",
       " (('i', 'h'), 110),\n",
       " (('y', 't'), 109),\n",
       " (('b', 'l'), 109),\n",
       " (('c', 'y'), 108),\n",
       " (('u', 't'), 108),\n",
       " (('y', 'v'), 108),\n",
       " (('x', 'i'), 106),\n",
       " (('r', 'c'), 106),\n",
       " (('x', 'a'), 105),\n",
       " (('t', 'z'), 105),\n",
       " (('i', 'p'), 104),\n",
       " (('p', 'i'), 102),\n",
       " (('o', 'k'), 99),\n",
       " (('r', 'g'), 99),\n",
       " (('c', '<E>'), 99),\n",
       " (('s', 'k'), 95),\n",
       " (('h', 't'), 95),\n",
       " (('b', 'y'), 92),\n",
       " (('<S>', 'q'), 92),\n",
       " (('u', 'w'), 91),\n",
       " (('i', 'x'), 90),\n",
       " (('l', 't'), 90),\n",
       " (('e', 'f'), 89),\n",
       " (('y', 'k'), 87),\n",
       " (('s', 'r'), 87),\n",
       " (('p', '<E>'), 86),\n",
       " (('i', 'i'), 85),\n",
       " (('z', 'u'), 83),\n",
       " (('l', 'v'), 83),\n",
       " (('r', 'j'), 79),\n",
       " (('m', 'p'), 79),\n",
       " (('y', 'z'), 78),\n",
       " (('o', 'i'), 76),\n",
       " (('l', 'm'), 76),\n",
       " (('c', 'r'), 76),\n",
       " (('r', 'b'), 76),\n",
       " (('p', 'o'), 75),\n",
       " (('u', 'h'), 75),\n",
       " (('f', 'o'), 75),\n",
       " (('w', 'y'), 73),\n",
       " (('n', 'v'), 73),\n",
       " (('e', 'j'), 71),\n",
       " (('j', 'h'), 71),\n",
       " (('e', 'u'), 70),\n",
       " (('x', 't'), 70),\n",
       " (('p', 'u'), 70),\n",
       " (('a', 'q'), 69),\n",
       " (('b', 'd'), 69),\n",
       " (('b', 'b'), 68),\n",
       " (('s', 'p'), 66),\n",
       " (('u', 'g'), 66),\n",
       " (('i', 'q'), 66),\n",
       " (('m', 's'), 66),\n",
       " (('a', 'o'), 64),\n",
       " (('l', 'b'), 64),\n",
       " (('s', 'w'), 64),\n",
       " (('o', 'z'), 64),\n",
       " (('s', 'c'), 63),\n",
       " (('o', 'g'), 63),\n",
       " (('w', 'n'), 63),\n",
       " (('d', 'l'), 62),\n",
       " (('u', 'p'), 62),\n",
       " (('m', 'c'), 60),\n",
       " (('h', 'w'), 60),\n",
       " (('h', 'v'), 59),\n",
       " (('e', 'w'), 58),\n",
       " (('v', 'r'), 58),\n",
       " (('h', 's'), 56),\n",
       " (('w', '<E>'), 53),\n",
       " (('u', 'v'), 53),\n",
       " (('n', 'r'), 51),\n",
       " (('u', 'j'), 51),\n",
       " (('u', 'z'), 50),\n",
       " (('f', 'f'), 49),\n",
       " (('c', 'c'), 48),\n",
       " (('p', 'p'), 48),\n",
       " (('z', 'h'), 46),\n",
       " (('g', 'y'), 46),\n",
       " (('o', 'x'), 45),\n",
       " (('l', 'k'), 45),\n",
       " (('z', 'z'), 45),\n",
       " (('o', 'j'), 45),\n",
       " (('z', 'm'), 43),\n",
       " (('s', 'n'), 43),\n",
       " (('h', 'k'), 43),\n",
       " (('m', 'd'), 42),\n",
       " (('k', 'k'), 42),\n",
       " (('x', 'o'), 41),\n",
       " (('d', 'n'), 40),\n",
       " (('r', 'p'), 39),\n",
       " (('x', 'l'), 39),\n",
       " (('n', 'h'), 39),\n",
       " (('q', '<E>'), 39),\n",
       " (('g', 'l'), 38),\n",
       " (('z', 'r'), 38),\n",
       " (('t', 's'), 38),\n",
       " (('x', 'x'), 38),\n",
       " (('o', 'f'), 37),\n",
       " (('m', 'n'), 37),\n",
       " (('g', 't'), 37),\n",
       " (('h', 'b'), 37),\n",
       " (('c', 't'), 36),\n",
       " (('t', 'n'), 36),\n",
       " (('x', 'e'), 36),\n",
       " (('w', 'o'), 36),\n",
       " (('c', 'u'), 36),\n",
       " (('g', 'w'), 35),\n",
       " (('u', 'x'), 35),\n",
       " (('d', 'm'), 35),\n",
       " (('r', 'w'), 34),\n",
       " (('n', 'm'), 34),\n",
       " (('n', 'w'), 34),\n",
       " (('m', 'l'), 34),\n",
       " (('h', 'd'), 34),\n",
       " (('k', 'w'), 34),\n",
       " (('u', 'f'), 34),\n",
       " (('d', 's'), 33),\n",
       " (('l', 'c'), 33),\n",
       " (('h', 'h'), 33),\n",
       " (('g', 'n'), 32),\n",
       " (('l', 'f'), 32),\n",
       " (('m', 'j'), 32),\n",
       " (('g', 'd'), 31),\n",
       " (('g', 's'), 31),\n",
       " (('x', 'y'), 31),\n",
       " (('x', 's'), 31),\n",
       " (('w', 'r'), 30),\n",
       " (('y', 'g'), 30),\n",
       " (('s', 'b'), 30),\n",
       " (('l', 'w'), 30),\n",
       " (('k', 'n'), 29),\n",
       " (('g', 'g'), 28),\n",
       " (('y', 'b'), 28),\n",
       " (('y', 'x'), 28),\n",
       " (('d', 'w'), 28),\n",
       " (('j', 'r'), 27),\n",
       " (('w', 'u'), 27),\n",
       " (('d', 'g'), 26),\n",
       " (('p', 't'), 26),\n",
       " (('r', 'z'), 26),\n",
       " (('l', 'p'), 26),\n",
       " (('y', 'j'), 25),\n",
       " (('f', 't'), 25),\n",
       " (('h', 'z'), 25),\n",
       " (('i', 'w'), 25),\n",
       " (('w', 'h'), 24),\n",
       " (('k', 't'), 24),\n",
       " (('l', 'r'), 24),\n",
       " (('y', 'y'), 23),\n",
       " (('s', 'v'), 23),\n",
       " (('p', 's'), 23),\n",
       " (('t', 'w'), 23),\n",
       " (('y', 'h'), 23),\n",
       " (('m', 'v'), 23),\n",
       " (('p', 'y'), 22),\n",
       " (('w', 's'), 22),\n",
       " (('f', 'u'), 22),\n",
       " (('m', 't'), 22),\n",
       " (('n', 'p'), 22),\n",
       " (('f', 'l'), 21),\n",
       " (('p', 'l'), 21),\n",
       " (('l', 'h'), 21),\n",
       " (('d', 'v'), 21),\n",
       " (('j', 'm'), 21),\n",
       " (('l', 'n'), 20),\n",
       " (('v', 'n'), 20),\n",
       " (('v', 'l'), 20),\n",
       " (('h', 'p'), 20),\n",
       " (('f', 's'), 19),\n",
       " (('x', 'z'), 19),\n",
       " (('l', 'j'), 19),\n",
       " (('j', 'n'), 19),\n",
       " (('t', 'v'), 19),\n",
       " (('r', 'f'), 19),\n",
       " (('h', 'j'), 19),\n",
       " (('k', 'm'), 18),\n",
       " (('y', 'p'), 17),\n",
       " (('t', 'c'), 17),\n",
       " (('n', 'b'), 17),\n",
       " (('j', 'l'), 16),\n",
       " (('b', 's'), 16),\n",
       " (('j', 'y'), 16),\n",
       " (('r', 'q'), 16),\n",
       " (('m', 'k'), 16),\n",
       " (('q', 'a'), 15),\n",
       " (('w', 'l'), 15),\n",
       " (('e', 'q'), 14),\n",
       " (('f', 'y'), 14),\n",
       " (('j', 'w'), 14),\n",
       " (('m', 'z'), 14),\n",
       " (('q', 'i'), 14),\n",
       " (('j', 'j'), 14),\n",
       " (('n', 'f'), 13),\n",
       " (('u', 'y'), 13),\n",
       " (('y', 'f'), 12),\n",
       " (('c', 'q'), 11),\n",
       " (('m', 'h'), 11),\n",
       " (('u', 'q'), 11),\n",
       " (('j', 'v'), 11),\n",
       " (('p', 'n'), 11),\n",
       " (('j', 'k'), 11),\n",
       " (('v', 'k'), 10),\n",
       " (('u', 'o'), 10),\n",
       " (('v', 'v'), 10),\n",
       " (('l', 'z'), 10),\n",
       " (('v', 'u'), 10),\n",
       " (('j', 's'), 10),\n",
       " (('w', 't'), 10),\n",
       " (('s', 'z'), 10),\n",
       " (('k', 'c'), 10),\n",
       " (('w', 'd'), 10),\n",
       " (('g', 'm'), 10),\n",
       " (('s', 'd'), 9),\n",
       " (('t', 'm'), 9),\n",
       " (('d', 'j'), 9),\n",
       " (('b', 'n'), 9),\n",
       " (('j', 'd'), 9),\n",
       " (('j', 'p'), 9),\n",
       " (('x', 'm'), 9),\n",
       " (('t', 'k'), 8),\n",
       " (('l', 'g'), 7),\n",
       " (('h', 'g'), 7),\n",
       " (('b', 'j'), 7),\n",
       " (('d', 't'), 7),\n",
       " (('k', 'b'), 7),\n",
       " (('m', 'w'), 7),\n",
       " (('h', 'f'), 7),\n",
       " (('d', 'k'), 7),\n",
       " (('j', 'b'), 7),\n",
       " (('z', 'n'), 6),\n",
       " (('n', 'x'), 6),\n",
       " (('y', 'q'), 6),\n",
       " (('w', 'k'), 6),\n",
       " (('g', 'j'), 6),\n",
       " (('z', 'w'), 6),\n",
       " (('g', 'v'), 6),\n",
       " (('z', 'b'), 5),\n",
       " (('x', 'u'), 5),\n",
       " (('c', 's'), 5),\n",
       " (('d', 'f'), 5),\n",
       " (('x', 'd'), 5),\n",
       " (('u', 'u'), 5),\n",
       " (('h', 'c'), 5),\n",
       " (('v', 'd'), 5),\n",
       " (('s', 'g'), 5),\n",
       " ((',', '<E>'), 5),\n",
       " (('v', 't'), 5),\n",
       " (('f', 'n'), 4),\n",
       " (('q', 'r'), 4),\n",
       " (('x', 'c'), 4),\n",
       " (('t', 'j'), 4),\n",
       " (('z', 't'), 4),\n",
       " (('c', 'z'), 4),\n",
       " (('s', 'j'), 4),\n",
       " (('g', 'b'), 4),\n",
       " (('s', 'f'), 4),\n",
       " (('f', 'z'), 4),\n",
       " (('z', 's'), 4),\n",
       " (('o', 'q'), 4),\n",
       " (('f', 'w'), 4),\n",
       " (('f', 'h'), 4),\n",
       " (('j', 'c'), 4),\n",
       " (('y', 'w'), 4),\n",
       " (('t', 'b'), 4),\n",
       " (('t', 'p'), 4),\n",
       " (('v', 'j'), 4),\n",
       " (('x', 'w'), 3),\n",
       " (('q', 's'), 3),\n",
       " (('c', 'j'), 3),\n",
       " (('q', 'w'), 3),\n",
       " (('k', 'j'), 3),\n",
       " (('z', 'v'), 3),\n",
       " (('r', 'x'), 3),\n",
       " (('d', 'c'), 3),\n",
       " (('x', 'f'), 3),\n",
       " (('j', 't'), 3),\n",
       " (('c', 'x'), 3),\n",
       " (('q', 'o'), 3),\n",
       " (('l', 'q'), 3),\n",
       " (('d', 'b'), 3),\n",
       " (('k', 'v'), 3),\n",
       " (('v', 'p'), 3),\n",
       " (('g', 'p'), 3),\n",
       " (('a', '/'), 3),\n",
       " (('p', 'b'), 2),\n",
       " (('t', 'g'), 2),\n",
       " (('t', 'x'), 2),\n",
       " (('f', 'k'), 2),\n",
       " (('b', 't'), 2),\n",
       " (('z', 'k'), 2),\n",
       " (('b', 'c'), 2),\n",
       " (('z', 'j'), 2),\n",
       " (('n', 'q'), 2),\n",
       " (('m', 'f'), 2),\n",
       " (('p', 'c'), 2),\n",
       " (('w', 'w'), 2),\n",
       " (('w', 'm'), 2),\n",
       " (('z', 'c'), 2),\n",
       " (('w', 'f'), 2),\n",
       " (('q', 'm'), 2),\n",
       " (('k', 'z'), 2),\n",
       " (('p', 'k'), 2),\n",
       " (('p', 'm'), 2),\n",
       " (('x', 'n'), 2),\n",
       " (('z', 'p'), 2),\n",
       " (('c', 'g'), 2),\n",
       " (('t', 'f'), 2),\n",
       " (('v', 'b'), 2),\n",
       " (('k', 'd'), 2),\n",
       " (('v', 'h'), 2),\n",
       " (('h', 'q'), 2),\n",
       " (('z', 'd'), 2),\n",
       " (('f', 'j'), 2),\n",
       " (('t', ','), 2),\n",
       " (('d', 'p'), 2),\n",
       " (('/', '<E>'), 2),\n",
       " (('0', '<E>'), 2),\n",
       " (('/', 'o'), 2),\n",
       " (('a', ','), 2),\n",
       " (('b', 'w'), 2),\n",
       " (('d', 'z'), 1),\n",
       " (('p', 'j'), 1),\n",
       " (('q', 'l'), 1),\n",
       " (('p', 'f'), 1),\n",
       " (('q', 'e'), 1),\n",
       " (('c', 'd'), 1),\n",
       " (('w', 'b'), 1),\n",
       " (('f', 'g'), 1),\n",
       " (('z', 'g'), 1),\n",
       " (('c', 'p'), 1),\n",
       " (('s', 'q'), 1),\n",
       " (('k', 'f'), 1),\n",
       " (('x', 'h'), 1),\n",
       " (('g', 'f'), 1),\n",
       " (('g', 'z'), 1),\n",
       " (('d', 'q'), 1),\n",
       " (('x', 'b'), 1),\n",
       " (('w', 'z'), 1),\n",
       " (('w', 'g'), 1),\n",
       " (('z', 'x'), 1),\n",
       " (('l', '0'), 1),\n",
       " (('0', 'k'), 1),\n",
       " (('v', 'f'), 1),\n",
       " (('g', 'c'), 1),\n",
       " (('p', 'v'), 1),\n",
       " (('v', 'g'), 1),\n",
       " (('q', 'b'), 1),\n",
       " (('j', 'g'), 1),\n",
       " (('g', 'k'), 1),\n",
       " (('t', '/'), 1),\n",
       " (('m', '0'), 1),\n",
       " (('k', 'x'), 1),\n",
       " (('h', '0'), 1),\n",
       " (('q', 'h'), 1),\n",
       " (('/', 'v'), 1),\n",
       " (('a', '&'), 1),\n",
       " (('&', '<E>'), 1),\n",
       " (('b', 'p'), 1),\n",
       " (('a', '('), 1),\n",
       " (('(', 'w'), 1),\n",
       " (('u', ','), 1),\n",
       " (('m', 'g'), 1),\n",
       " (('k', 'p'), 1),\n",
       " (('b', 'z'), 1),\n",
       " (('s', '/'), 1),\n",
       " (('b', '('), 1),\n",
       " (('(', 'k'), 1),\n",
       " (('a', ')'), 1),\n",
       " ((')', '<E>'), 1),\n",
       " (('e', '['), 1),\n",
       " (('[', '<E>'), 1),\n",
       " (('v', 'm'), 1),\n",
       " (('/', 'b'), 1),\n",
       " (('i', '8'), 1),\n",
       " (('8', 'v'), 1),\n",
       " (('v', 'c'), 1),\n",
       " (('w', 'j'), 1),\n",
       " (('w', '/'), 1)]"
      ]
     },
     "execution_count": 91,
     "metadata": {},
     "output_type": "execute_result"
    }
   ],
   "source": [
    "sorted(b.items(), key=lambda kv: kv[1], reverse=True)"
   ]
  },
  {
   "cell_type": "code",
   "execution_count": 95,
   "id": "13a42248-de79-4d9e-a886-41fc6bf78d26",
   "metadata": {},
   "outputs": [],
   "source": [
    "import torch"
   ]
  },
  {
   "cell_type": "code",
   "execution_count": 112,
   "id": "72c6622f-d32b-4811-9db5-5f9eaa64919f",
   "metadata": {},
   "outputs": [],
   "source": [
    "N = torch.zeros((28, 28), dtype=torch.int32)"
   ]
  },
  {
   "cell_type": "code",
   "execution_count": 114,
   "id": "4705e51b-b00f-4ac8-bc8a-b1ed911bc561",
   "metadata": {
    "scrolled": true
   },
   "outputs": [
    {
     "data": {
      "text/plain": [
       "{'&',\n",
       " '(',\n",
       " ')',\n",
       " ',',\n",
       " '/',\n",
       " '0',\n",
       " '8',\n",
       " '[',\n",
       " 'a',\n",
       " 'b',\n",
       " 'c',\n",
       " 'd',\n",
       " 'e',\n",
       " 'f',\n",
       " 'g',\n",
       " 'h',\n",
       " 'i',\n",
       " 'j',\n",
       " 'k',\n",
       " 'l',\n",
       " 'm',\n",
       " 'n',\n",
       " 'o',\n",
       " 'p',\n",
       " 'q',\n",
       " 'r',\n",
       " 's',\n",
       " 't',\n",
       " 'u',\n",
       " 'v',\n",
       " 'w',\n",
       " 'x',\n",
       " 'y',\n",
       " 'z'}"
      ]
     },
     "execution_count": 114,
     "metadata": {},
     "output_type": "execute_result"
    }
   ],
   "source": [
    "set(''.join(words))"
   ]
  },
  {
   "cell_type": "code",
   "execution_count": 118,
   "id": "b2e17c97-aeaa-4ea0-b017-71b3b27cd12e",
   "metadata": {},
   "outputs": [
    {
     "data": {
      "text/plain": [
       "38499"
      ]
     },
     "execution_count": 118,
     "metadata": {},
     "output_type": "execute_result"
    }
   ],
   "source": [
    "import re\n",
    "words = [word for word in words if re.match(\"^[a-zA-Z]+$\", word)]\n",
    "len(words)"
   ]
  },
  {
   "cell_type": "code",
   "execution_count": 132,
   "id": "0383a432-84f7-4931-9f12-c144295f6e56",
   "metadata": {},
   "outputs": [],
   "source": [
    "chars = sorted(list(set(''.join(words))))\n",
    "stoi = {s:i for i,s in enumerate(chars)}\n",
    "stoi['<S>'] = 26\n",
    "stoi['<E>'] = 27"
   ]
  },
  {
   "cell_type": "code",
   "execution_count": 130,
   "id": "e8b54313-d62f-40dd-990e-dc16205fd314",
   "metadata": {},
   "outputs": [
    {
     "data": {
      "text/plain": [
       "{'a': 0,\n",
       " 'b': 1,\n",
       " 'c': 2,\n",
       " 'd': 3,\n",
       " 'e': 4,\n",
       " 'f': 5,\n",
       " 'g': 6,\n",
       " 'h': 7,\n",
       " 'i': 8,\n",
       " 'j': 9,\n",
       " 'k': 10,\n",
       " 'l': 11,\n",
       " 'm': 12,\n",
       " 'n': 13,\n",
       " 'o': 14,\n",
       " 'p': 15,\n",
       " 'q': 16,\n",
       " 'r': 17,\n",
       " 's': 18,\n",
       " 't': 19,\n",
       " 'u': 20,\n",
       " 'v': 21,\n",
       " 'w': 22,\n",
       " 'x': 23,\n",
       " 'y': 24,\n",
       " 'z': 25}"
      ]
     },
     "execution_count": 130,
     "metadata": {},
     "output_type": "execute_result"
    }
   ],
   "source": []
  },
  {
   "cell_type": "code",
   "execution_count": 134,
   "id": "8796eb78-a756-4100-99e2-e5c377a91ebf",
   "metadata": {},
   "outputs": [],
   "source": [
    "\n",
    "for w in words:\n",
    "    chs = ['<S>'] + list(w) + ['<E>']\n",
    "    for ch1, ch2 in zip(chs, chs[1:]):\n",
    "        ix1 = stoi[ch1]\n",
    "        ix2 = stoi[ch2]\n",
    "        N[ix1, ix2] += 1"
   ]
  },
  {
   "cell_type": "code",
   "execution_count": 139,
   "id": "dc72d868-2a2f-4f90-b36a-68caba822b85",
   "metadata": {},
   "outputs": [],
   "source": [
    "import matplotlib.pyplot as plt "
   ]
  },
  {
   "cell_type": "code",
   "execution_count": 143,
   "id": "8b75dfeb-a76c-4d88-9bbb-bab2d1a26a5e",
   "metadata": {},
   "outputs": [
    {
     "data": {
      "text/plain": [
       "{0: 'a',\n",
       " 1: 'b',\n",
       " 2: 'c',\n",
       " 3: 'd',\n",
       " 4: 'e',\n",
       " 5: 'f',\n",
       " 6: 'g',\n",
       " 7: 'h',\n",
       " 8: 'i',\n",
       " 9: 'j',\n",
       " 10: 'k',\n",
       " 11: 'l',\n",
       " 12: 'm',\n",
       " 13: 'n',\n",
       " 14: 'o',\n",
       " 15: 'p',\n",
       " 16: 'q',\n",
       " 17: 'r',\n",
       " 18: 's',\n",
       " 19: 't',\n",
       " 20: 'u',\n",
       " 21: 'v',\n",
       " 22: 'w',\n",
       " 23: 'x',\n",
       " 24: 'y',\n",
       " 25: 'z',\n",
       " 26: '<S>',\n",
       " 27: '<E>'}"
      ]
     },
     "execution_count": 143,
     "metadata": {},
     "output_type": "execute_result"
    }
   ],
   "source": [
    "itos = {i:s for s,i in stoi.items()}\n",
    "itos"
   ]
  },
  {
   "cell_type": "code",
   "execution_count": 176,
   "id": "f0f56fc7-fc0b-4af4-a858-4cc418754ab7",
   "metadata": {},
   "outputs": [
    {
     "ename": "KeyError",
     "evalue": "27",
     "output_type": "error",
     "traceback": [
      "\u001b[31m---------------------------------------------------------------------------\u001b[39m",
      "\u001b[31mKeyError\u001b[39m                                  Traceback (most recent call last)",
      "\u001b[36mCell\u001b[39m\u001b[36m \u001b[39m\u001b[32mIn[176]\u001b[39m\u001b[32m, line 5\u001b[39m\n\u001b[32m      3\u001b[39m \u001b[38;5;28;01mfor\u001b[39;00m i \u001b[38;5;129;01min\u001b[39;00m \u001b[38;5;28mrange\u001b[39m(\u001b[32m28\u001b[39m):\n\u001b[32m      4\u001b[39m     \u001b[38;5;28;01mfor\u001b[39;00m j \u001b[38;5;129;01min\u001b[39;00m \u001b[38;5;28mrange\u001b[39m(\u001b[32m28\u001b[39m):\n\u001b[32m----> \u001b[39m\u001b[32m5\u001b[39m         chstr = itos[i] + itos[j]\n\u001b[32m      6\u001b[39m         plt.text(j, i, chstr, ha=\u001b[33m'\u001b[39m\u001b[33mcenter\u001b[39m\u001b[33m'\u001b[39m, va=\u001b[33m'\u001b[39m\u001b[33mbottom\u001b[39m\u001b[33m'\u001b[39m, color=\u001b[33m'\u001b[39m\u001b[33mgray\u001b[39m\u001b[33m'\u001b[39m)\n\u001b[32m      7\u001b[39m         plt.text(j, i, N[i, j].item(), ha=\u001b[33m'\u001b[39m\u001b[33mcenter\u001b[39m\u001b[33m'\u001b[39m, va=\u001b[33m'\u001b[39m\u001b[33mtop\u001b[39m\u001b[33m'\u001b[39m, color=\u001b[33m'\u001b[39m\u001b[33mgray\u001b[39m\u001b[33m'\u001b[39m)\n",
      "\u001b[31mKeyError\u001b[39m: 27"
     ]
    },
    {
     "data": {
      "image/png": "[encoded data removed]",
      "text/plain": [
       "<Figure size 1600x1600 with 1 Axes>"
      ]
     },
     "metadata": {},
     "output_type": "display_data"
    }
   ],
   "source": [
    "plt.figure(figsize=(16, 16))\n",
    "plt.imshow(N, cmap='viridis')\n",
    "for i in range(28):\n",
    "    for j in range(28):\n",
    "        chstr = itos[i] + itos[j]\n",
    "        plt.text(j, i, chstr, ha='center', va='bottom', color='gray')\n",
    "        plt.text(j, i, N[i, j].item(), ha='center', va='top', color='gray')\n",
    "plt.axis('off')"
   ]
  },
  {
   "cell_type": "markdown",
   "id": "89f7fa0a-3b84-42bf-af8f-23e9bb19b3bf",
   "metadata": {},
   "source": [
    "As we can see the last row and second last columns is all zero because `<s>` can never comes after any character similarly no word can start with `<E>` so we are wasting memory. let's fix this."
   ]
  },
  {
   "cell_type": "code",
   "execution_count": 156,
   "id": "248b0c85-059c-4ed3-b9ca-0b2367293169",
   "metadata": {},
   "outputs": [],
   "source": [
    "N = torch.zeros((27, 27), dtype=torch.int32)"
   ]
  },
  {
   "cell_type": "code",
   "execution_count": 168,
   "id": "e212423e-99a7-4aa3-aa51-0a91d4edf483",
   "metadata": {},
   "outputs": [],
   "source": [
    "chars = sorted(list(set(''.join(words))))\n",
    "stoi = {s:i+1 for i,s in enumerate(chars)}\n",
    "stoi['.'] = 0\n",
    "itos = {i:s for s,i in stoi.items()}\n"
   ]
  },
  {
   "cell_type": "code",
   "execution_count": 170,
   "id": "20c4a175-2ea1-44ca-8117-c397eabacac7",
   "metadata": {},
   "outputs": [],
   "source": [
    "for w in words:\n",
    "    chs = ['.'] + list(w) + ['.']\n",
    "    for ch1, ch2 in zip(chs, chs[1:]):\n",
    "        ix1 = stoi[ch1]\n",
    "        ix2 = stoi[ch2]\n",
    "        N[ix1, ix2] += 1"
   ]
  },
  {
   "cell_type": "code",
   "execution_count": 180,
   "id": "8597c964-dd4c-42da-bc18-3c53201ee2fc",
   "metadata": {},
   "outputs": [
    {
     "data": {
      "text/plain": [
       "(-0.5, 26.5, 26.5, -0.5)"
      ]
     },
     "execution_count": 180,
     "metadata": {},
     "output_type": "execute_result"
    },
    {
     "data": {
      "image/png": "[encoded data removed]",
      "text/plain": [
       "<Figure size 1600x1600 with 1 Axes>"
      ]
     },
     "metadata": {},
     "output_type": "display_data"
    }
   ],
   "source": [
    "plt.figure(figsize=(16, 16))\n",
    "plt.imshow(N, cmap='Blues')\n",
    "for i in range(27):\n",
    "    for j in range(27):\n",
    "        chstr = itos[i] + itos[j]\n",
    "        plt.text(j, i, chstr, ha='center', va='bottom', color='gray')\n",
    "        plt.text(j, i, N[i, j].item(), ha='center', va='top', color='gray')\n",
    "plt.axis('off')"
   ]
  },
  {
   "cell_type": "code",
   "execution_count": 182,
   "id": "5046aaf7-e37e-4d35-804f-12dfed517886",
   "metadata": {},
   "outputs": [
    {
     "data": {
      "text/plain": [
       "tensor([   0, 4996, 1704, 1682, 1986, 1549,  524,  897, 1070,  691, 2719, 3341,\n",
       "        1696, 3087, 1507,  423,  892,   92, 2187, 3272, 1486,  136,  558,  324,\n",
       "         134,  592,  954], dtype=torch.int32)"
      ]
     },
     "execution_count": 182,
     "metadata": {},
     "output_type": "execute_result"
    }
   ],
   "source": [
    "N[0, :]"
   ]
  },
  {
   "cell_type": "markdown",
   "id": "86de3f8a-89c8-4bee-8ef2-c0dcf507ff96",
   "metadata": {},
   "source": [
    "### Probability Conversion"
   ]
  },
  {
   "cell_type": "code",
   "execution_count": 187,
   "id": "6d464898-8d30-449d-bde5-273954c3933d",
   "metadata": {},
   "outputs": [
    {
     "data": {
      "text/plain": [
       "tensor([0.0000, 0.1298, 0.0443, 0.0437, 0.0516, 0.0402, 0.0136, 0.0233, 0.0278,\n",
       "        0.0179, 0.0706, 0.0868, 0.0441, 0.0802, 0.0391, 0.0110, 0.0232, 0.0024,\n",
       "        0.0568, 0.0850, 0.0386, 0.0035, 0.0145, 0.0084, 0.0035, 0.0154, 0.0248])"
      ]
     },
     "execution_count": 187,
     "metadata": {},
     "output_type": "execute_result"
    }
   ],
   "source": [
    "p = N[0, :].float()\n",
    "p = p / p.sum()\n",
    "p"
   ]
  },
  {
   "cell_type": "markdown",
   "id": "d972490e-f614-4496-8f1d-ee62c7e9ccdb",
   "metadata": {},
   "source": [
    "**--------------------------------------------------------------------------------------**\n",
    "\n",
    "**Demo of generator and multinomial object**"
   ]
  },
  {
   "cell_type": "code",
   "execution_count": 197,
   "id": "02f4b8ec-c69d-4015-b7a1-40f95714ab8d",
   "metadata": {},
   "outputs": [
    {
     "data": {
      "text/plain": [
       "tensor([0.6064, 0.3033, 0.0903])"
      ]
     },
     "execution_count": 197,
     "metadata": {},
     "output_type": "execute_result"
    }
   ],
   "source": [
    "g = torch.Generator().manual_seed(2147483647)\n",
    "p = torch.rand(3, generator=g)\n",
    "p = p / p.sum()\n",
    "p"
   ]
  },
  {
   "cell_type": "markdown",
   "id": "d0077e6c-9d81-4e60-acc1-56f4265d570b",
   "metadata": {},
   "source": [
    "torch.multinomial ? -> it takes a tensor and draw the index number from the tensor randomly and it make sure that the index having high probability will get picked more often."
   ]
  },
  {
   "cell_type": "code",
   "execution_count": 199,
   "id": "bd116cb8-dd58-43d8-925e-afdaf846a6db",
   "metadata": {},
   "outputs": [
    {
     "data": {
      "text/plain": [
       "tensor([1, 1, 2, 0, 0, 2, 1, 1, 0, 0, 0, 1, 1, 0, 0, 1, 1, 0, 0, 1])"
      ]
     },
     "execution_count": 199,
     "metadata": {},
     "output_type": "execute_result"
    }
   ],
   "source": [
    "torch.multinomial(p, num_samples=20, replacement=True, generator=g)"
   ]
  },
  {
   "cell_type": "markdown",
   "id": "565a58b8-ef6c-42db-b9bd-a94cbcb21ed9",
   "metadata": {},
   "source": [
    "**--------------------------------------------------------------------------------------**"
   ]
  },
  {
   "cell_type": "code",
   "execution_count": 211,
   "id": "74bd9476-3e32-42a4-8e0e-b4209cca3293",
   "metadata": {},
   "outputs": [
    {
     "data": {
      "text/plain": [
       "tensor([0.0000, 0.1298, 0.0443, 0.0437, 0.0516, 0.0402, 0.0136, 0.0233, 0.0278,\n",
       "        0.0179, 0.0706, 0.0868, 0.0441, 0.0802, 0.0391, 0.0110, 0.0232, 0.0024,\n",
       "        0.0568, 0.0850, 0.0386, 0.0035, 0.0145, 0.0084, 0.0035, 0.0154, 0.0248])"
      ]
     },
     "execution_count": 211,
     "metadata": {},
     "output_type": "execute_result"
    }
   ],
   "source": [
    "p = N[0, :].float()\n",
    "p = p / p.sum()\n",
    "p"
   ]
  },
  {
   "cell_type": "code",
   "execution_count": 223,
   "id": "4887f4c2-2981-4557-acbf-701f6191c62e",
   "metadata": {},
   "outputs": [
    {
     "data": {
      "text/plain": [
       "'j'"
      ]
     },
     "execution_count": 223,
     "metadata": {},
     "output_type": "execute_result"
    }
   ],
   "source": [
    "g = torch.Generator().manual_seed(2147483647)\n",
    "ix = torch.multinomial(p, num_samples=1, replacement=True, generator=g).item()\n",
    "itos[ix]"
   ]
  },
  {
   "cell_type": "code",
   "execution_count": 239,
   "id": "a29f6d2a-afeb-4aac-bba8-6cac339e4de4",
   "metadata": {},
   "outputs": [],
   "source": [
    "P = N.float()\n",
    "P /=  P.sum(dim=1, keepdim=True)"
   ]
  },
  {
   "cell_type": "code",
   "execution_count": 243,
   "id": "580e46b1-6431-4b44-b02b-ab16992fd038",
   "metadata": {},
   "outputs": [
    {
     "name": "stdout",
     "output_type": "stream",
     "text": [
      "junide.\n",
      "janasah.\n",
      "p.\n",
      "cona.\n",
      "a.\n"
     ]
    }
   ],
   "source": [
    "g = torch.Generator().manual_seed(2147483647)\n",
    "for i in range(5):\n",
    "    out = []\n",
    "    ix = 0\n",
    "    while True:\n",
    "        p = P[ix]\n",
    "        # p = N[ix].float()\n",
    "        # p = p / p.sum()\n",
    "        ix = torch.multinomial(p, num_samples=1, replacement=True, generator=g).item()\n",
    "        out.append(itos[ix])\n",
    "        if ix == 0:\n",
    "            break\n",
    "    print(''.join(out))"
   ]
  },
  {
   "cell_type": "markdown",
   "id": "957f9d33-6af5-4fd1-a259-c398217e11d1",
   "metadata": {},
   "source": [
    "### Evaluate Quality of the model"
   ]
  },
  {
   "cell_type": "code",
   "execution_count": 251,
   "id": "7109149d-6dd3-484e-aa40-02182e4431ad",
   "metadata": {},
   "outputs": [
    {
     "name": "stdout",
     "output_type": "stream",
     "text": [
      ".e: 0.0402\n",
      "em: 0.0377\n",
      "mm: 0.0224\n",
      "ma: 0.3754\n",
      "a.: 0.1944\n",
      ".o: 0.0110\n",
      "ol: 0.0769\n",
      "li: 0.1731\n",
      "iv: 0.0148\n",
      "vi: 0.3611\n",
      "ia: 0.1179\n",
      "a.: 0.1944\n",
      ".a: 0.1298\n",
      "av: 0.0237\n",
      "va: 0.2428\n",
      "a.: 0.1944\n"
     ]
    }
   ],
   "source": [
    "for w in words[:3]:\n",
    "    chs = ['.'] + list(w) + ['.']\n",
    "    for ch1, ch2 in zip(chs, chs[1:]):\n",
    "        ix1 = stoi[ch1]\n",
    "        ix2 = stoi[ch2]\n",
    "        prob = P[ix1, ix2]\n",
    "        print(f'{ch1}{ch2}: {prob:.4f}')\n",
    "        "
   ]
  },
  {
   "cell_type": "markdown",
   "id": "5eadd198-af39-475c-8173-70eaaf67fa73",
   "metadata": {},
   "source": [
    "if everything would be equally likely then we would expect all the probs to be 1/27.0"
   ]
  },
  {
   "cell_type": "code",
   "execution_count": 258,
   "id": "14a23851-8ed7-4a22-82ae-29d7d6736d8f",
   "metadata": {},
   "outputs": [
    {
     "data": {
      "text/plain": [
       "0.037037037037037035"
      ]
     },
     "execution_count": 258,
     "metadata": {},
     "output_type": "execute_result"
    }
   ],
   "source": [
    "1/27.0"
   ]
  },
  {
   "attachments": {},
   "cell_type": "markdown",
   "id": "0f1108ba-143d-4392-8650-fd556a154241",
   "metadata": {},
   "source": [
    "so anything above 4 percent means we have learned something useful from the bigram statistics.\n",
    "\n",
    "Maximum log likelihood estimation"
   ]
  },
  {
   "cell_type": "code",
   "execution_count": 280,
   "id": "b5ab96e5-2774-4f07-8942-d6f4dd5db817",
   "metadata": {},
   "outputs": [],
   "source": [
    "# GOAL: maximize likelihood of the data w.r.t model parameters (statistical modelling)\n",
    "# equivalent to maximizing the log likelihood (because log is monotonic)\n",
    "# equivalent to minimizing the negative log likelihood\n",
    "# equivalent to minimizing the average negative log likelihood\n",
    "\n",
    "# log(a*b*c) = log(a) + log(b) + log(c)"
   ]
  },
  {
   "cell_type": "code",
   "execution_count": 278,
   "id": "7f7b07f3-2f8f-40de-9221-180a8c744acd",
   "metadata": {},
   "outputs": [
    {
     "name": "stdout",
     "output_type": "stream",
     "text": [
      ".e: 0.0402 -3.2130\n",
      "em: 0.0377 -3.2791\n",
      "mm: 0.0224 -3.7991\n",
      "ma: 0.3754 -0.9798\n",
      "a.: 0.1944 -1.6381\n",
      ".o: 0.0110 -4.5110\n",
      "ol: 0.0769 -2.5646\n",
      "li: 0.1731 -1.7538\n",
      "iv: 0.0148 -4.2154\n",
      "vi: 0.3611 -1.0186\n",
      "ia: 0.1179 -2.1376\n",
      "a.: 0.1944 -1.6381\n",
      ".a: 0.1298 -2.0420\n",
      "av: 0.0237 -3.7442\n",
      "va: 0.2428 -1.4154\n",
      "a.: 0.1944 -1.6381\n",
      "log_likelihood=tensor(-39.5878)\n",
      "nll=tensor(39.5878) the lowest it can go to zero and can go as high as infinity\n",
      "2.474238395690918 average log likelihood\n"
     ]
    }
   ],
   "source": [
    "log_likelihood = 0.0\n",
    "n = 0\n",
    "for w in words[:3]:\n",
    "    chs = ['.'] + list(w) + ['.']\n",
    "    for ch1, ch2 in zip(chs, chs[1:]):\n",
    "        ix1 = stoi[ch1]\n",
    "        ix2 = stoi[ch2]\n",
    "        prob = P[ix1, ix2]\n",
    "        logprob = torch.log(prob)\n",
    "        log_likelihood += logprob\n",
    "        n += 1\n",
    "        print(f'{ch1}{ch2}: {prob:.4f} {logprob:.4f}')\n",
    "print(f'{log_likelihood=}')\n",
    "nll = -log_likelihood\n",
    "print(f'{nll=} the lowest it can go to zero and can go as high as infinity')\n",
    "print(f'{nll/n} average log likelihood')"
   ]
  },
  {
   "cell_type": "code",
   "execution_count": 282,
   "id": "548401ad-a794-49ea-955b-37c34cc4ff07",
   "metadata": {},
   "outputs": [
    {
     "name": "stdout",
     "output_type": "stream",
     "text": [
      "log_likelihood=tensor(-684626.3750)\n",
      "nll=tensor(684626.3750) the lowest it can go to zero and can go as high as infinity\n",
      "2.4833104610443115 average log likelihood\n"
     ]
    }
   ],
   "source": [
    "log_likelihood = 0.0\n",
    "n = 0\n",
    "for w in words:\n",
    "    chs = ['.'] + list(w) + ['.']\n",
    "    for ch1, ch2 in zip(chs, chs[1:]):\n",
    "        ix1 = stoi[ch1]\n",
    "        ix2 = stoi[ch2]\n",
    "        prob = P[ix1, ix2]\n",
    "        logprob = torch.log(prob)\n",
    "        log_likelihood += logprob\n",
    "        n += 1\n",
    "print(f'{log_likelihood=}')\n",
    "nll = -log_likelihood\n",
    "print(f'{nll=} the lowest it can go to zero and can go as high as infinity')\n",
    "print(f'{nll/n} average log likelihood')"
   ]
  },
  {
   "cell_type": "code",
   "execution_count": null,
   "id": "3fe601da-e584-4832-895d-fb4d128e07ce",
   "metadata": {},
   "outputs": [],
   "source": [
    "# thing to note "
   ]
  },
  {
   "cell_type": "code",
   "execution_count": 290,
   "id": "3c8998e3-e10a-466c-a3c9-7a44381b88ab",
   "metadata": {},
   "outputs": [
    {
     "name": "stdout",
     "output_type": "stream",
     "text": [
      ".a: 0.1298 -2.0420\n",
      "an: 0.1623 -1.8184\n",
      "nd: 0.0516 -2.9636\n",
      "dr: 0.0757 -2.5812\n",
      "re: 0.1197 -2.1226\n",
      "ej: 0.0031 -5.7628\n",
      "jq: 0.0000 -inf\n",
      "q.: 0.1309 -2.0335\n",
      "log_likelihood=tensor(-inf)\n",
      "nll=tensor(inf) the lowest it can go to zero and can go as high as infinity\n",
      "inf average log likelihood\n"
     ]
    }
   ],
   "source": [
    "log_likelihood = 0.0\n",
    "n = 0\n",
    "for w in ['andrejq']:\n",
    "    chs = ['.'] + list(w) + ['.']\n",
    "    for ch1, ch2 in zip(chs, chs[1:]):\n",
    "        ix1 = stoi[ch1]\n",
    "        ix2 = stoi[ch2]\n",
    "        prob = P[ix1, ix2]\n",
    "        logprob = torch.log(prob)\n",
    "        log_likelihood += logprob\n",
    "        n += 1\n",
    "        print(f'{ch1}{ch2}: {prob:.4f} {logprob:.4f}')\n",
    "print(f'{log_likelihood=}')\n",
    "nll = -log_likelihood\n",
    "print(f'{nll=} the lowest it can go to zero and can go as high as infinity')\n",
    "print(f'{nll/n} average log likelihood')"
   ]
  },
  {
   "cell_type": "markdown",
   "id": "6b291b2e-4c81-4529-9076-d522d75c5d54",
   "metadata": {},
   "source": [
    "the loss is now infinity because jq has a zero percent probability according to our model so log(0) = -inf"
   ]
  },
  {
   "cell_type": "markdown",
   "id": "72a59ee7-a0fd-4c7c-beea-9f286f1513f3",
   "metadata": {},
   "source": [
    "#### Fix the issue - by adding fake counts and avoid having zeros in the probability matrix"
   ]
  },
  {
   "cell_type": "code",
   "execution_count": 296,
   "id": "175e56b8-bc85-46bf-9bea-f7c13cb13f38",
   "metadata": {},
   "outputs": [],
   "source": [
    "P = (N+1).float()\n",
    "P /= P.sum(1, keepdims=True)"
   ]
  },
  {
   "cell_type": "code",
   "execution_count": 298,
   "id": "b71bffe4-8239-4c16-a17d-f487ab7db499",
   "metadata": {},
   "outputs": [
    {
     "name": "stdout",
     "output_type": "stream",
     "text": [
      "junide.\n",
      "janasah.\n",
      "p.\n",
      "cona.\n",
      "a.\n"
     ]
    }
   ],
   "source": [
    "g = torch.Generator().manual_seed(2147483647)\n",
    "for i in range(5):\n",
    "    out = []\n",
    "    ix = 0\n",
    "    while True:\n",
    "        p = P[ix]\n",
    "        # p = N[ix].float()\n",
    "        # p = p / p.sum()\n",
    "        ix = torch.multinomial(p, num_samples=1, replacement=True, generator=g).item()\n",
    "        out.append(itos[ix])\n",
    "        if ix == 0:\n",
    "            break\n",
    "    print(''.join(out))"
   ]
  },
  {
   "cell_type": "code",
   "execution_count": 300,
   "id": "804ee257-f7bf-4d39-9619-00305f306d44",
   "metadata": {},
   "outputs": [
    {
     "name": "stdout",
     "output_type": "stream",
     "text": [
      ".a: 0.1297 -2.0425\n",
      "an: 0.1622 -1.8189\n",
      "nd: 0.0516 -2.9640\n",
      "dr: 0.0755 -2.5832\n",
      "re: 0.1196 -2.1238\n",
      "ej: 0.0032 -5.7500\n",
      "jq: 0.0003 -8.2631\n",
      "q.: 0.1231 -2.0949\n",
      "log_likelihood=tensor(-27.6404)\n",
      "nll=tensor(27.6404) the lowest it can go to zero and can go as high as infinity\n",
      "3.4550461769104004 average log likelihood\n"
     ]
    }
   ],
   "source": [
    "log_likelihood = 0.0\n",
    "n = 0\n",
    "for w in ['andrejq']:\n",
    "    chs = ['.'] + list(w) + ['.']\n",
    "    for ch1, ch2 in zip(chs, chs[1:]):\n",
    "        ix1 = stoi[ch1]\n",
    "        ix2 = stoi[ch2]\n",
    "        prob = P[ix1, ix2]\n",
    "        logprob = torch.log(prob)\n",
    "        log_likelihood += logprob\n",
    "        n += 1\n",
    "        print(f'{ch1}{ch2}: {prob:.4f} {logprob:.4f}')\n",
    "print(f'{log_likelihood=}')\n",
    "nll = -log_likelihood\n",
    "print(f'{nll=} the lowest it can go to zero and can go as high as infinity')\n",
    "print(f'{nll/n} average log likelihood')"
   ]
  },
  {
   "cell_type": "markdown",
   "id": "774ff38b-dc76-4cfd-be18-fb5cef927be0",
   "metadata": {},
   "source": [
    "### Bigram Language Model using Neural Network approach"
   ]
  },
  {
   "cell_type": "markdown",
   "id": "5ef376fa-4a14-46e7-aee3-a41e19e3e3eb",
   "metadata": {},
   "source": [
    "#### Creating the training set of all the bigrams"
   ]
  },
  {
   "cell_type": "markdown",
   "id": "79f825fa-2a87-48b2-9783-57191b03009c",
   "metadata": {},
   "source": [
    "**example demo ---------------------------------------------------------------------**"
   ]
  },
  {
   "cell_type": "code",
   "execution_count": 311,
   "id": "a49ff7a6-8521-4128-b924-c854845a4d9f",
   "metadata": {},
   "outputs": [
    {
     "name": "stdout",
     "output_type": "stream",
     "text": [
      ". e\n",
      "e m\n",
      "m m\n",
      "m a\n",
      "a .\n"
     ]
    }
   ],
   "source": [
    "xs, ys = [], [] # inputs , targets \n",
    "for w in words[:1]:\n",
    "    chs = ['.'] + list(w) + ['.']\n",
    "    for ch1, ch2 in zip(chs, chs[1:]):\n",
    "        ix1 = stoi[ch1]\n",
    "        ix2 = stoi[ch2]\n",
    "        print(ch1, ch2)\n",
    "        xs.append(ix1)\n",
    "        ys.append(ix2)\n",
    "\n",
    "xs = torch.tensor(xs)\n",
    "ys = torch.tensor(ys)\n",
    "        "
   ]
  },
  {
   "cell_type": "code",
   "execution_count": 307,
   "id": "b7ffa5fa-005a-4d44-aeb3-941b8836f2bb",
   "metadata": {},
   "outputs": [
    {
     "data": {
      "text/plain": [
       "tensor([ 0,  5, 13, 13,  1])"
      ]
     },
     "execution_count": 307,
     "metadata": {},
     "output_type": "execute_result"
    }
   ],
   "source": [
    "xs"
   ]
  },
  {
   "cell_type": "code",
   "execution_count": 309,
   "id": "5bf57abe-fa82-4714-a170-e2f8d344c240",
   "metadata": {},
   "outputs": [
    {
     "data": {
      "text/plain": [
       "tensor([ 5, 13, 13,  1,  0])"
      ]
     },
     "execution_count": 309,
     "metadata": {},
     "output_type": "execute_result"
    }
   ],
   "source": [
    "ys"
   ]
  },
  {
   "cell_type": "markdown",
   "id": "71f582a7-29f6-42ff-9d9a-441c77a3b2d6",
   "metadata": {},
   "source": [
    "when 0 is input we want 5(e) as a high probability when 5(e) is an input we want 13(m) to have high probability and so on."
   ]
  },
  {
   "cell_type": "markdown",
   "id": "270a800d-1ce7-4aa5-866d-486196e499e1",
   "metadata": {},
   "source": [
    "**------------------------------------------------------------------------------------**"
   ]
  },
  {
   "cell_type": "markdown",
   "id": "e4cbb700-c3fc-46ca-8f87-06f312486d45",
   "metadata": {},
   "source": [
    "#### One-Hot encoding"
   ]
  },
  {
   "cell_type": "code",
   "execution_count": 324,
   "id": "310eeb1f-193f-490e-a10c-1d948329f3f3",
   "metadata": {},
   "outputs": [],
   "source": [
    "import torch.nn.functional as F"
   ]
  },
  {
   "cell_type": "code",
   "execution_count": 340,
   "id": "07d85546-07b5-4676-a439-bae1646762be",
   "metadata": {},
   "outputs": [
    {
     "data": {
      "text/plain": [
       "tensor([[1., 0., 0., 0., 0., 0., 0., 0., 0., 0., 0., 0., 0., 0., 0., 0., 0., 0.,\n",
       "         0., 0., 0., 0., 0., 0., 0., 0., 0.],\n",
       "        [0., 0., 0., 0., 0., 1., 0., 0., 0., 0., 0., 0., 0., 0., 0., 0., 0., 0.,\n",
       "         0., 0., 0., 0., 0., 0., 0., 0., 0.],\n",
       "        [0., 0., 0., 0., 0., 0., 0., 0., 0., 0., 0., 0., 0., 1., 0., 0., 0., 0.,\n",
       "         0., 0., 0., 0., 0., 0., 0., 0., 0.],\n",
       "        [0., 0., 0., 0., 0., 0., 0., 0., 0., 0., 0., 0., 0., 1., 0., 0., 0., 0.,\n",
       "         0., 0., 0., 0., 0., 0., 0., 0., 0.],\n",
       "        [0., 1., 0., 0., 0., 0., 0., 0., 0., 0., 0., 0., 0., 0., 0., 0., 0., 0.,\n",
       "         0., 0., 0., 0., 0., 0., 0., 0., 0.]])"
      ]
     },
     "execution_count": 340,
     "metadata": {},
     "output_type": "execute_result"
    }
   ],
   "source": [
    "xenc = F.one_hot(xs, num_classes=27).float()\n",
    "xenc"
   ]
  },
  {
   "cell_type": "code",
   "execution_count": 342,
   "id": "acae76fd-8294-44af-ae5b-d6e06bf62bdc",
   "metadata": {},
   "outputs": [
    {
     "data": {
      "text/plain": [
       "torch.Size([5, 27])"
      ]
     },
     "execution_count": 342,
     "metadata": {},
     "output_type": "execute_result"
    }
   ],
   "source": [
    "xenc.shape"
   ]
  },
  {
   "cell_type": "code",
   "execution_count": 344,
   "id": "25ed2743-8b82-48f1-a285-92a78c1bcd48",
   "metadata": {},
   "outputs": [
    {
     "data": {
      "text/plain": [
       "<matplotlib.image.AxesImage at 0x22136d96840>"
      ]
     },
     "execution_count": 344,
     "metadata": {},
     "output_type": "execute_result"
    },
    {
     "data": {
      "image/png": "[encoded data removed]",
      "text/plain": [
       "<Figure size 640x480 with 1 Axes>"
      ]
     },
     "metadata": {},
     "output_type": "display_data"
    }
   ],
   "source": [
    "plt.imshow(xenc)"
   ]
  },
  {
   "cell_type": "markdown",
   "id": "b77d2a92-984f-41ab-a046-42cc4803960a",
   "metadata": {},
   "source": [
    "it simply means turn on the bit where the index of the input exist."
   ]
  },
  {
   "cell_type": "code",
   "execution_count": 349,
   "id": "f928f75b-bd91-486f-b569-7609b706eb4f",
   "metadata": {},
   "outputs": [
    {
     "data": {
      "text/plain": [
       "torch.float32"
      ]
     },
     "execution_count": 349,
     "metadata": {},
     "output_type": "execute_result"
    }
   ],
   "source": [
    "xenc.dtype # do not feed intergers to the neural network."
   ]
  },
  {
   "cell_type": "markdown",
   "id": "58fd9644-5c9d-4948-99fc-2566a6f12bb3",
   "metadata": {},
   "source": [
    "#### Weight Initialization for the NN"
   ]
  },
  {
   "cell_type": "markdown",
   "id": "1eb5ede0-2889-49a1-9a73-65933cbfd71b",
   "metadata": {},
   "source": [
    "##### For 1 neuron (27, 1)"
   ]
  },
  {
   "cell_type": "code",
   "execution_count": 354,
   "id": "1814b418-101f-453a-b5c0-bf92b61717c2",
   "metadata": {},
   "outputs": [
    {
     "data": {
      "text/plain": [
       "tensor([[ 1.0739],\n",
       "        [-0.8449],\n",
       "        [ 0.6316],\n",
       "        [-0.1800],\n",
       "        [ 0.6078],\n",
       "        [ 1.1566],\n",
       "        [-1.6915],\n",
       "        [ 2.3343],\n",
       "        [ 0.3681],\n",
       "        [ 0.3773],\n",
       "        [-1.1048],\n",
       "        [-0.6755],\n",
       "        [-0.1177],\n",
       "        [-0.5137],\n",
       "        [ 0.2026],\n",
       "        [ 0.0162],\n",
       "        [ 1.1854],\n",
       "        [-2.1010],\n",
       "        [ 1.8000],\n",
       "        [ 0.5064],\n",
       "        [ 1.3524],\n",
       "        [ 1.9117],\n",
       "        [ 2.0874],\n",
       "        [-0.1640],\n",
       "        [-0.1681],\n",
       "        [ 0.4313],\n",
       "        [-2.7329]])"
      ]
     },
     "execution_count": 354,
     "metadata": {},
     "output_type": "execute_result"
    }
   ],
   "source": [
    "W = torch.randn((27, 1))\n",
    "W"
   ]
  },
  {
   "cell_type": "code",
   "execution_count": 356,
   "id": "7205b6c7-66ff-40ac-a55e-62ef94256e90",
   "metadata": {},
   "outputs": [
    {
     "data": {
      "text/plain": [
       "tensor([[ 1.0739],\n",
       "        [ 1.1566],\n",
       "        [-0.5137],\n",
       "        [-0.5137],\n",
       "        [-0.8449]])"
      ]
     },
     "execution_count": 356,
     "metadata": {},
     "output_type": "execute_result"
    }
   ],
   "source": [
    "xenc @ W"
   ]
  },
  {
   "cell_type": "code",
   "execution_count": 358,
   "id": "37c8cd7b-76d9-4cb3-8997-a36fa3f191fd",
   "metadata": {},
   "outputs": [
    {
     "data": {
      "text/plain": [
       "torch.Size([5, 1])"
      ]
     },
     "execution_count": 358,
     "metadata": {},
     "output_type": "execute_result"
    }
   ],
   "source": [
    "(xenc @ W).shape"
   ]
  },
  {
   "cell_type": "code",
   "execution_count": 374,
   "id": "4e05dae0-0e15-4586-8d8c-aa163afacda0",
   "metadata": {},
   "outputs": [],
   "source": [
    "# (5, 27) @ (27, 1) = (5, 1)"
   ]
  },
  {
   "cell_type": "code",
   "execution_count": 362,
   "id": "bb166cd9-8818-4594-9cb4-1031d7b2070d",
   "metadata": {},
   "outputs": [
    {
     "data": {
      "text/plain": [
       "tensor([1., 0., 0., 0., 0., 0., 0., 0., 0., 0., 0., 0., 0., 0., 0., 0., 0., 0.,\n",
       "        0., 0., 0., 0., 0., 0., 0., 0., 0.])"
      ]
     },
     "execution_count": 362,
     "metadata": {},
     "output_type": "execute_result"
    }
   ],
   "source": [
    "xenc[0]"
   ]
  },
  {
   "cell_type": "code",
   "execution_count": 368,
   "id": "6d612277-d04f-4087-8c22-1dfed4f6f90e",
   "metadata": {},
   "outputs": [
    {
     "data": {
      "text/plain": [
       "tensor([ 1.0739, -0.8449,  0.6316, -0.1800,  0.6078,  1.1566, -1.6915,  2.3343,\n",
       "         0.3681,  0.3773, -1.1048, -0.6755, -0.1177, -0.5137,  0.2026,  0.0162,\n",
       "         1.1854, -2.1010,  1.8000,  0.5064,  1.3524,  1.9117,  2.0874, -0.1640,\n",
       "        -0.1681,  0.4313, -2.7329])"
      ]
     },
     "execution_count": 368,
     "metadata": {},
     "output_type": "execute_result"
    }
   ],
   "source": [
    "W[:, 0]"
   ]
  },
  {
   "cell_type": "code",
   "execution_count": 372,
   "id": "ace0be15-a13b-4b83-b978-2cb2d90ac39b",
   "metadata": {},
   "outputs": [
    {
     "data": {
      "text/plain": [
       "tensor(1.0739)"
      ]
     },
     "execution_count": 372,
     "metadata": {},
     "output_type": "execute_result"
    }
   ],
   "source": [
    "torch.sum(xenc[0] * W[:, 0])"
   ]
  },
  {
   "cell_type": "markdown",
   "id": "b8c6291c-fadd-4df9-bb0d-6fe0202c2060",
   "metadata": {},
   "source": [
    "##### For 27 neurons"
   ]
  },
  {
   "cell_type": "code",
   "execution_count": 378,
   "id": "a8d2089f-67ae-45c5-a320-60ac2f7b163c",
   "metadata": {
    "scrolled": true
   },
   "outputs": [
    {
     "data": {
      "text/plain": [
       "tensor([[-4.3167e-01, -4.7660e-01,  1.2516e+00, -1.0452e+00,  2.0540e+00,\n",
       "          1.5153e+00, -4.7535e-01,  1.3654e+00, -4.1069e-01, -1.5033e+00,\n",
       "          1.9407e-01, -1.3039e+00, -2.5526e+00,  1.1357e+00,  8.7036e-01,\n",
       "         -1.0899e+00,  1.1562e+00,  9.1713e-01,  2.0027e+00, -5.3163e-02,\n",
       "         -6.0621e-01,  2.7692e-01,  2.0942e+00, -5.4687e-02, -3.7407e-01,\n",
       "          6.9643e-01,  4.6554e-01],\n",
       "        [-2.1983e-01, -4.9069e-01,  1.6637e-01, -9.8829e-02,  6.2147e-01,\n",
       "          1.3691e+00, -3.6199e-01,  8.9517e-01,  1.2996e+00, -1.8599e-01,\n",
       "          4.5495e-01,  4.2383e-01, -1.8845e-02,  2.2704e-01,  3.2587e-01,\n",
       "         -5.0582e-01, -1.9166e-01, -5.7310e-01, -1.2839e+00, -8.5781e-01,\n",
       "          1.1981e+00,  3.0676e-01, -9.6638e-01, -2.7473e-01,  5.5846e-01,\n",
       "          1.7493e+00,  2.2085e+00],\n",
       "        [-5.0300e-01,  8.9724e-01,  3.8307e-01, -1.5311e-01, -3.8533e-01,\n",
       "         -2.4516e-01, -1.4385e+00, -2.7775e-01,  8.3094e-01, -2.0945e+00,\n",
       "          1.0913e+00,  1.4922e+00,  2.0974e-01, -8.3578e-02, -5.1100e-01,\n",
       "         -2.0195e+00,  3.0926e-01,  4.7371e-01, -1.9809e+00,  5.0138e-01,\n",
       "         -1.1870e+00, -4.3081e-01, -1.8343e+00, -4.4283e-01,  5.0486e-01,\n",
       "         -1.1541e+00, -1.3113e+00],\n",
       "        [ 2.9342e-01, -7.3956e-01, -2.0069e+00,  7.4771e-01,  1.8863e+00,\n",
       "          1.2059e+00,  4.1119e-01, -5.2005e-01, -1.6304e+00, -1.9454e-02,\n",
       "         -2.7757e-01, -6.6280e-01,  6.7124e-01, -1.1521e+00, -1.2595e-02,\n",
       "          9.7142e-01,  1.2468e+00,  1.8382e+00,  3.9239e-01,  6.7953e-01,\n",
       "          8.8237e-01, -4.4807e-01,  1.8624e+00,  2.6822e-01, -6.0380e-02,\n",
       "         -3.4554e-02,  9.2090e-02],\n",
       "        [-8.0627e-01, -3.0978e+00,  8.3628e-01, -1.5521e-01, -1.1957e+00,\n",
       "          4.6186e-01, -3.0520e-01,  2.6010e-01, -1.4124e-01,  4.5104e-01,\n",
       "         -1.5098e+00,  2.1283e+00,  2.5992e-01, -7.5595e-01, -2.4856e-01,\n",
       "          4.3127e-01,  4.9459e-01,  4.5469e-01, -8.1105e-01, -1.5951e+00,\n",
       "          1.5417e+00, -6.5613e-01,  5.6559e-01, -1.4321e+00, -4.2560e-01,\n",
       "          6.6136e-01, -7.5437e-01],\n",
       "        [ 7.9611e-01, -2.0729e+00,  1.0279e+00, -4.2294e-01,  1.0179e-01,\n",
       "         -7.3166e-01, -2.1760e-01, -2.2149e+00,  1.8000e-01, -3.6099e-01,\n",
       "         -1.5347e+00,  1.2468e+00, -1.4087e+00, -5.1522e-01, -1.3909e+00,\n",
       "         -5.9634e-01, -3.5195e-01, -1.3027e+00, -3.5705e-01, -8.3003e-01,\n",
       "         -1.2211e+00, -5.7155e-01, -1.0014e-01, -3.1606e-01, -1.1559e+00,\n",
       "          1.8697e-01,  1.5450e+00],\n",
       "        [ 2.1029e+00,  1.0069e+00, -8.6440e-01, -1.5138e-01, -8.9286e-01,\n",
       "         -1.2248e-02,  1.4132e-01,  8.7241e-01,  3.0133e-01,  5.5093e-01,\n",
       "         -6.5052e-01,  5.9413e-01,  9.5807e-01,  1.3424e+00, -6.4188e-01,\n",
       "          1.1601e+00, -1.4409e+00,  9.2984e-01,  6.9693e-01,  6.5212e-01,\n",
       "          7.8543e-01, -8.3671e-01,  7.5192e-01, -6.8309e-01,  1.9902e-01,\n",
       "          3.5243e-01,  1.4342e+00],\n",
       "        [-2.1358e-01,  8.1491e-01,  8.9886e-01, -1.2009e+00,  8.4953e-01,\n",
       "         -1.0914e+00, -1.0748e+00, -1.0213e+00,  8.6791e-01, -5.8398e-01,\n",
       "         -6.0513e-01, -2.2949e-01,  3.1078e-01, -9.7923e-01,  4.1369e-01,\n",
       "         -8.1839e-01, -8.9276e-01, -4.5438e-01, -1.2035e+00,  6.0902e-01,\n",
       "          8.3674e-01,  1.0653e+00, -8.0272e-02, -1.3516e+00, -9.1017e-01,\n",
       "         -1.7041e+00,  8.7850e-01],\n",
       "        [ 1.1163e+00, -9.9644e-01, -1.5886e+00, -1.4227e+00,  1.5133e+00,\n",
       "          8.4689e-01, -4.8404e-01,  1.5195e+00,  2.7582e-01, -1.4767e+00,\n",
       "         -1.4433e-01,  1.4521e+00,  3.0998e-01,  2.5516e-01,  2.1233e+00,\n",
       "          4.5083e-01,  7.6886e-01, -2.4076e-02,  1.9977e-01, -9.2919e-01,\n",
       "          6.7208e-01,  7.6712e-01, -7.8293e-01,  1.7796e+00,  3.8273e-01,\n",
       "          1.7946e+00, -1.5074e+00],\n",
       "        [ 5.4418e-01,  9.6779e-01, -3.0741e-01,  4.6504e-01,  7.3238e-01,\n",
       "          2.4712e-01,  2.0299e+00,  1.7466e+00,  1.8995e+00,  1.2418e+00,\n",
       "         -1.5241e+00, -8.3056e-01, -9.9205e-01,  2.7690e-01,  1.9404e-01,\n",
       "         -1.9352e+00, -5.5989e-01,  3.0979e-02,  6.6987e-01, -1.1446e+00,\n",
       "          2.2033e+00,  1.2273e+00,  8.7175e-01,  7.3132e-01,  1.6041e-01,\n",
       "          8.5802e-01, -9.3057e-01],\n",
       "        [-4.4257e-01, -4.6155e-01,  1.0793e+00, -2.4294e-01, -1.6472e-01,\n",
       "          1.1592e+00, -1.8338e+00, -2.4773e-01, -9.1665e-02, -2.9085e-01,\n",
       "          1.1631e-01,  3.5609e-01, -6.4679e-01,  5.0394e-01,  1.1356e-01,\n",
       "         -6.3117e-01,  9.0283e-01,  6.9860e-01, -3.1157e-01,  2.2935e-02,\n",
       "         -3.8233e-01, -1.5654e+00,  1.8805e+00,  3.6385e-01, -1.6626e+00,\n",
       "          8.5688e-01,  7.0667e-01],\n",
       "        [ 4.8896e-01,  1.8124e+00,  9.4685e-01, -8.3162e-01,  1.1653e+00,\n",
       "          8.5057e-02, -2.1908e+00,  5.0638e-01,  2.8295e-01, -1.6033e+00,\n",
       "         -1.0425e+00,  1.3994e+00, -2.7046e+00, -6.1501e-01, -1.1056e-03,\n",
       "          9.4177e-01,  1.6160e+00, -1.0531e+00, -4.6851e-01,  6.1404e-01,\n",
       "          4.9188e-01, -4.5542e-01,  1.4330e+00, -6.3654e-01,  9.2564e-01,\n",
       "         -1.8874e-01,  2.0408e-01],\n",
       "        [ 1.8231e-01, -2.5258e-01, -7.5691e-01, -1.5147e+00,  2.3424e+00,\n",
       "          1.5477e+00,  6.4820e-01,  1.2567e+00,  1.7370e+00,  1.3542e+00,\n",
       "         -1.0631e+00, -1.0354e+00,  8.2049e-01,  5.7924e-01, -6.3368e-01,\n",
       "          5.9847e-01, -2.2224e+00,  7.5227e-01, -3.1245e-02, -5.0846e-01,\n",
       "         -1.3767e+00,  9.2370e-01,  5.8393e-01, -1.5681e+00,  4.9948e-01,\n",
       "         -1.6504e+00,  1.2612e-01],\n",
       "        [-5.8034e-01,  1.2630e+00, -8.6856e-01,  1.2723e+00,  9.5949e-01,\n",
       "          7.4004e-01, -5.9662e-01,  3.5781e-01, -4.6291e-01, -3.1691e-01,\n",
       "         -2.1652e-01, -8.8083e-01, -7.2929e-01,  7.2662e-01, -9.4321e-01,\n",
       "         -8.2865e-01, -9.9740e-01, -1.6566e+00,  1.9533e-01,  1.2568e-01,\n",
       "         -6.8871e-01,  8.9560e-01,  2.3202e+00,  9.0336e-01, -9.8566e-01,\n",
       "         -4.4784e-01, -6.0794e-01],\n",
       "        [-4.8071e-01,  5.1625e-02,  1.6953e+00, -7.6571e-01,  1.7449e+00,\n",
       "         -3.7455e-01, -1.5598e-01, -8.6121e-01,  9.8104e-01,  4.5246e-01,\n",
       "         -5.6324e-01,  9.0573e-01, -1.3502e+00, -1.5876e+00,  1.2835e+00,\n",
       "          1.3415e+00,  6.0338e-01,  5.9210e-01,  2.0628e+00,  5.8744e-01,\n",
       "         -6.5335e-01,  7.6355e-01, -6.3267e-01, -1.4620e+00, -3.1886e-01,\n",
       "          9.7772e-01,  1.1774e+00],\n",
       "        [-8.0571e-01,  1.2478e+00,  1.4793e+00,  1.0591e-01, -1.7138e+00,\n",
       "         -2.5938e+00, -2.7132e-02,  1.6732e+00,  1.7283e-01, -3.8855e-01,\n",
       "          4.1418e-01,  3.9727e-01, -8.2914e-01,  8.7474e-01,  1.5357e+00,\n",
       "         -2.1468e-01,  5.5730e-01,  2.9771e-01,  1.1151e+00,  2.7155e-01,\n",
       "          1.1933e+00,  2.6352e+00, -1.5457e+00,  5.8642e-01,  2.4021e-01,\n",
       "          9.4814e-01,  1.8816e+00],\n",
       "        [ 2.3634e+00,  9.4888e-01,  5.3452e-01,  4.8408e-01, -2.6526e+00,\n",
       "          4.5999e-01,  5.3385e-01, -1.5152e-01,  1.3455e+00,  6.7223e-01,\n",
       "          9.0059e-01, -2.8457e-01,  8.1197e-01, -6.8049e-01, -9.4590e-01,\n",
       "         -7.4550e-01, -1.1098e+00,  8.3854e-01, -1.0510e+00,  9.8414e-01,\n",
       "          8.3424e-02, -3.4164e-01,  1.6894e+00,  6.1972e-02, -5.8484e-01,\n",
       "         -9.5549e-01,  1.2389e+00],\n",
       "        [-5.8294e-01, -1.4192e+00, -1.8347e+00,  1.5874e-01, -1.6165e+00,\n",
       "         -1.1370e+00,  1.3227e-01,  9.9718e-01, -9.6598e-02, -7.2790e-02,\n",
       "          1.0524e+00, -8.1923e-01,  1.2299e+00, -1.8375e+00,  2.6731e-01,\n",
       "         -2.1361e+00,  9.8263e-01,  8.7974e-01, -1.5567e+00, -5.6209e-01,\n",
       "         -1.0127e+00,  1.1317e+00, -5.3827e-01,  7.8272e-01,  9.1552e-01,\n",
       "          1.0167e+00,  1.3446e+00],\n",
       "        [ 6.7910e-01, -9.5595e-01, -1.5759e+00,  3.1635e-01,  1.3207e-01,\n",
       "          2.0853e-01,  2.0034e-01, -2.3455e-01,  8.9406e-01, -7.9285e-01,\n",
       "          1.3899e+00, -1.6326e+00,  4.0443e-01,  1.6124e-01, -1.6888e+00,\n",
       "          4.4570e-01, -5.5765e-01,  6.2727e-01, -5.7365e-01,  7.5111e-01,\n",
       "          1.0320e-01, -6.3570e-01,  8.2323e-01, -1.0100e-01,  8.6857e-01,\n",
       "          2.3599e-01,  4.6785e-01],\n",
       "        [ 1.2880e+00, -1.1116e+00,  1.9947e+00,  1.8377e-02, -2.2918e-02,\n",
       "         -2.3530e-01,  1.7965e+00,  5.3913e-01,  1.0642e+00,  2.9728e-02,\n",
       "         -3.7285e-01, -1.8870e+00,  5.1870e-01, -1.2272e-01,  7.8925e-01,\n",
       "          5.0307e-01,  3.3208e-02, -2.9116e-01, -2.9624e-03,  6.4744e-01,\n",
       "         -1.1452e-02,  1.3058e+00, -6.0244e-01,  1.2392e+00,  7.8061e-01,\n",
       "          7.0730e-03, -1.3961e+00],\n",
       "        [-2.4628e-01,  6.0074e-01, -7.7949e-01,  5.4846e-01, -7.3182e-01,\n",
       "         -8.8794e-01,  2.6355e-01,  7.6491e-01,  9.1345e-01,  4.6834e-01,\n",
       "          8.4915e-01, -6.9637e-01, -7.4852e-01, -9.3179e-01, -3.5554e-01,\n",
       "         -8.2810e-01,  1.4526e+00,  2.7660e-01,  4.3723e-01, -8.2731e-01,\n",
       "          4.9010e-01,  1.0459e+00, -1.3952e+00,  9.5644e-01,  8.8559e-01,\n",
       "          1.0248e+00,  1.4268e-01],\n",
       "        [ 1.2380e+00,  4.9404e-01,  7.6235e-01,  7.3634e-01, -5.6510e-01,\n",
       "          8.0965e-01, -3.5582e-01, -8.9012e-02,  5.0123e-01,  4.7934e-01,\n",
       "          2.3246e-01, -1.1078e-01, -7.2076e-01, -8.7921e-01,  1.4015e+00,\n",
       "          3.8550e-02, -1.0998e+00,  6.1521e-01, -1.4461e+00, -4.3255e-01,\n",
       "         -5.5519e-01, -6.4280e-01,  1.3243e+00,  1.0350e+00, -4.8017e-01,\n",
       "          1.1454e+00,  1.4298e-01],\n",
       "        [-1.0927e+00, -4.4834e-01, -6.2584e-01,  1.2563e+00,  5.4512e-01,\n",
       "          9.7093e-01,  4.9452e-02,  1.4507e-01,  1.6275e+00, -8.3252e-01,\n",
       "         -9.1694e-01, -5.5991e-01, -1.5093e+00, -8.1614e-01, -2.6795e+00,\n",
       "          2.0927e-02, -5.3529e-01, -5.3209e-01,  1.1407e+00, -5.6385e-01,\n",
       "         -7.5306e-01, -8.5811e-01, -1.4595e+00, -5.7400e-01,  1.0849e-01,\n",
       "         -5.5682e-01,  1.0836e+00],\n",
       "        [-6.0771e-01,  1.5278e-01,  1.2649e-02,  4.5625e-01, -1.3642e+00,\n",
       "          7.2643e-01, -9.1517e-01, -8.5671e-01,  1.5982e+00, -2.8584e-01,\n",
       "         -1.4724e+00,  1.7578e+00, -6.9501e-01,  1.0886e+00,  1.5843e+00,\n",
       "          1.2685e+00, -7.4322e-01, -3.9800e-01, -1.5343e+00,  1.2701e+00,\n",
       "         -5.7476e-01,  8.2215e-01,  3.0346e-01, -8.0414e-01,  9.8276e-01,\n",
       "          7.7570e-01,  1.2494e+00],\n",
       "        [ 5.8607e-01,  3.2675e-01,  8.2712e-02,  1.7035e-01, -1.0240e+00,\n",
       "          1.1734e+00, -2.4054e-01,  2.8460e-02, -1.1725e+00, -9.4551e-01,\n",
       "         -9.5686e-01,  6.1425e-01, -1.1505e+00, -1.1827e+00,  1.4270e+00,\n",
       "         -1.2597e+00,  1.3041e+00, -6.3742e-01,  6.8403e-01,  1.2189e+00,\n",
       "          5.9628e-01, -1.4069e+00,  8.7441e-01, -8.8874e-01, -4.0571e-01,\n",
       "         -5.2775e-01,  1.1984e+00],\n",
       "        [-1.6792e+00, -1.4486e+00, -1.9892e+00, -3.2212e-01,  1.5701e+00,\n",
       "         -1.4551e+00,  1.2028e+00,  3.8219e-01, -3.8402e-02, -5.8238e-01,\n",
       "          1.1689e-01, -6.8415e-02, -1.3761e+00, -3.6687e-01, -5.4852e-02,\n",
       "          8.9148e-01,  3.3278e-01, -1.2393e-01,  5.5756e-01,  5.8246e-01,\n",
       "         -6.1727e-02, -1.3291e-01,  9.8361e-01,  5.2645e-01, -5.7581e-01,\n",
       "         -9.3878e-01,  1.5058e+00],\n",
       "        [-9.0389e-01, -1.2479e-01, -6.0019e-01,  5.7334e-01,  1.0594e+00,\n",
       "          6.6289e-01, -1.0214e+00,  1.1003e+00,  1.4296e+00,  1.4134e+00,\n",
       "          6.9919e-01, -1.6929e-01,  3.4120e-01, -1.6531e-01,  1.9567e+00,\n",
       "          7.9274e-02,  2.2974e+00,  7.0808e-01, -1.4137e+00,  1.4039e+00,\n",
       "         -3.5179e-01, -2.9078e-01, -2.1417e-01, -1.5242e+00, -5.0869e-01,\n",
       "          7.6490e-01, -1.1468e+00]])"
      ]
     },
     "execution_count": 378,
     "metadata": {},
     "output_type": "execute_result"
    }
   ],
   "source": [
    "W = torch.randn((27, 27))\n",
    "W # weights for 27 neurons"
   ]
  },
  {
   "cell_type": "code",
   "execution_count": 380,
   "id": "b05a9d8d-ff4d-4f17-88a8-264231bae00c",
   "metadata": {},
   "outputs": [],
   "source": [
    "# (5, 27) @ (27, 27) = (5, 27) # 5 rows bhejo har 1 ke liye 27 output honge because of 27 neuron."
   ]
  },
  {
   "cell_type": "markdown",
   "id": "b72f6201-9d38-4001-a375-824074349c57",
   "metadata": {},
   "source": [
    "why we are building 27 neurons so that the output will be the distribution of probabilities for each character so that we can pick which is the highest."
   ]
  },
  {
   "cell_type": "code",
   "execution_count": 383,
   "id": "86e152fc-d81e-4969-a79e-43a1c900b553",
   "metadata": {},
   "outputs": [
    {
     "data": {
      "text/plain": [
       "tensor([[-0.4317, -0.4766,  1.2516, -1.0452,  2.0540,  1.5153, -0.4754,  1.3654,\n",
       "         -0.4107, -1.5033,  0.1941, -1.3039, -2.5526,  1.1357,  0.8704, -1.0899,\n",
       "          1.1562,  0.9171,  2.0027, -0.0532, -0.6062,  0.2769,  2.0942, -0.0547,\n",
       "         -0.3741,  0.6964,  0.4655],\n",
       "        [ 0.7961, -2.0729,  1.0279, -0.4229,  0.1018, -0.7317, -0.2176, -2.2149,\n",
       "          0.1800, -0.3610, -1.5347,  1.2468, -1.4087, -0.5152, -1.3909, -0.5963,\n",
       "         -0.3519, -1.3027, -0.3571, -0.8300, -1.2211, -0.5716, -0.1001, -0.3161,\n",
       "         -1.1559,  0.1870,  1.5450],\n",
       "        [-0.5803,  1.2630, -0.8686,  1.2723,  0.9595,  0.7400, -0.5966,  0.3578,\n",
       "         -0.4629, -0.3169, -0.2165, -0.8808, -0.7293,  0.7266, -0.9432, -0.8287,\n",
       "         -0.9974, -1.6566,  0.1953,  0.1257, -0.6887,  0.8956,  2.3202,  0.9034,\n",
       "         -0.9857, -0.4478, -0.6079],\n",
       "        [-0.5803,  1.2630, -0.8686,  1.2723,  0.9595,  0.7400, -0.5966,  0.3578,\n",
       "         -0.4629, -0.3169, -0.2165, -0.8808, -0.7293,  0.7266, -0.9432, -0.8287,\n",
       "         -0.9974, -1.6566,  0.1953,  0.1257, -0.6887,  0.8956,  2.3202,  0.9034,\n",
       "         -0.9857, -0.4478, -0.6079],\n",
       "        [-0.2198, -0.4907,  0.1664, -0.0988,  0.6215,  1.3691, -0.3620,  0.8952,\n",
       "          1.2996, -0.1860,  0.4549,  0.4238, -0.0188,  0.2270,  0.3259, -0.5058,\n",
       "         -0.1917, -0.5731, -1.2839, -0.8578,  1.1981,  0.3068, -0.9664, -0.2747,\n",
       "          0.5585,  1.7493,  2.2085]])"
      ]
     },
     "execution_count": 383,
     "metadata": {},
     "output_type": "execute_result"
    }
   ],
   "source": [
    "(xenc @ W)"
   ]
  },
  {
   "cell_type": "markdown",
   "id": "560540b7-36de-4a5d-919c-3926218cd50c",
   "metadata": {},
   "source": [
    "these are some positive or negative numbers but we want probability distribution so what can we do to convert this into probability? \n",
    "use `exponentiation` what it does is if the number is negative the output is below 1 if the number is positive the output be go up to infinity"
   ]
  },
  {
   "cell_type": "code",
   "execution_count": 388,
   "id": "ef9ecae9-7865-463e-b23e-0ead43dbbc70",
   "metadata": {},
   "outputs": [
    {
     "data": {
      "text/plain": [
       "tensor([[ 0.6494,  0.6209,  3.4960,  0.3516,  7.7988,  4.5508,  0.6217,  3.9175,\n",
       "          0.6632,  0.2224,  1.2142,  0.2715,  0.0779,  3.1134,  2.3878,  0.3362,\n",
       "          3.1779,  2.5021,  7.4094,  0.9482,  0.5454,  1.3191,  8.1191,  0.9468,\n",
       "          0.6879,  2.0066,  1.5929],\n",
       "        [ 2.2169,  0.1258,  2.7951,  0.6551,  1.1072,  0.4811,  0.8045,  0.1092,\n",
       "          1.1972,  0.6970,  0.2155,  3.4793,  0.2445,  0.5974,  0.2489,  0.5508,\n",
       "          0.7033,  0.2718,  0.6997,  0.4360,  0.2949,  0.5646,  0.9047,  0.7290,\n",
       "          0.3148,  1.2056,  4.6879],\n",
       "        [ 0.5597,  3.5360,  0.4196,  3.5692,  2.6104,  2.0960,  0.5507,  1.4302,\n",
       "          0.6294,  0.7284,  0.8053,  0.4144,  0.4823,  2.0681,  0.3894,  0.4366,\n",
       "          0.3688,  0.1908,  1.2157,  1.1339,  0.5022,  2.4488, 10.1782,  2.4679,\n",
       "          0.3732,  0.6390,  0.5445],\n",
       "        [ 0.5597,  3.5360,  0.4196,  3.5692,  2.6104,  2.0960,  0.5507,  1.4302,\n",
       "          0.6294,  0.7284,  0.8053,  0.4144,  0.4823,  2.0681,  0.3894,  0.4366,\n",
       "          0.3688,  0.1908,  1.2157,  1.1339,  0.5022,  2.4488, 10.1782,  2.4679,\n",
       "          0.3732,  0.6390,  0.5445],\n",
       "        [ 0.8027,  0.6122,  1.1810,  0.9059,  1.8617,  3.9316,  0.6963,  2.4478,\n",
       "          3.6679,  0.8303,  1.5761,  1.5278,  0.9813,  1.2549,  1.3852,  0.6030,\n",
       "          0.8256,  0.5638,  0.2769,  0.4241,  3.3139,  1.3590,  0.3805,  0.7598,\n",
       "          1.7480,  5.7505,  9.1021]])"
      ]
     },
     "execution_count": 388,
     "metadata": {},
     "output_type": "execute_result"
    }
   ],
   "source": [
    "((xenc @ W).exp())"
   ]
  },
  {
   "cell_type": "code",
   "execution_count": 391,
   "id": "1d9fda0f-5ccd-40cc-989c-05390aefd7fd",
   "metadata": {},
   "outputs": [
    {
     "data": {
      "text/plain": [
       "tensor([[0.0109, 0.0104, 0.0587, 0.0059, 0.1310, 0.0764, 0.0104, 0.0658, 0.0111,\n",
       "         0.0037, 0.0204, 0.0046, 0.0013, 0.0523, 0.0401, 0.0056, 0.0534, 0.0420,\n",
       "         0.1244, 0.0159, 0.0092, 0.0222, 0.1363, 0.0159, 0.0116, 0.0337, 0.0267],\n",
       "        [0.0842, 0.0048, 0.1061, 0.0249, 0.0420, 0.0183, 0.0305, 0.0041, 0.0455,\n",
       "         0.0265, 0.0082, 0.1321, 0.0093, 0.0227, 0.0094, 0.0209, 0.0267, 0.0103,\n",
       "         0.0266, 0.0166, 0.0112, 0.0214, 0.0344, 0.0277, 0.0120, 0.0458, 0.1780],\n",
       "        [0.0137, 0.0867, 0.0103, 0.0875, 0.0640, 0.0514, 0.0135, 0.0351, 0.0154,\n",
       "         0.0179, 0.0197, 0.0102, 0.0118, 0.0507, 0.0095, 0.0107, 0.0090, 0.0047,\n",
       "         0.0298, 0.0278, 0.0123, 0.0600, 0.2495, 0.0605, 0.0091, 0.0157, 0.0133],\n",
       "        [0.0137, 0.0867, 0.0103, 0.0875, 0.0640, 0.0514, 0.0135, 0.0351, 0.0154,\n",
       "         0.0179, 0.0197, 0.0102, 0.0118, 0.0507, 0.0095, 0.0107, 0.0090, 0.0047,\n",
       "         0.0298, 0.0278, 0.0123, 0.0600, 0.2495, 0.0605, 0.0091, 0.0157, 0.0133],\n",
       "        [0.0165, 0.0126, 0.0242, 0.0186, 0.0382, 0.0806, 0.0143, 0.0502, 0.0752,\n",
       "         0.0170, 0.0323, 0.0313, 0.0201, 0.0257, 0.0284, 0.0124, 0.0169, 0.0116,\n",
       "         0.0057, 0.0087, 0.0680, 0.0279, 0.0078, 0.0156, 0.0358, 0.1179, 0.1866]])"
      ]
     },
     "execution_count": 391,
     "metadata": {},
     "output_type": "execute_result"
    }
   ],
   "source": [
    "logits = xenc @ W # log-counts\n",
    "counts = logits.exp() # equivalent to N matrix.\n",
    "probs = counts / counts.sum(1, keepdims=True) # normalize to get the probabilities\n",
    "probs\n"
   ]
  },
  {
   "cell_type": "code",
   "execution_count": 393,
   "id": "a0d08e37-b5c5-4970-9c7b-5fb63756fe98",
   "metadata": {},
   "outputs": [
    {
     "data": {
      "text/plain": [
       "tensor([1.0000, 1.0000, 1.0000, 1.0000, 1.0000])"
      ]
     },
     "execution_count": 393,
     "metadata": {},
     "output_type": "execute_result"
    }
   ],
   "source": [
    "probs.sum(dim=1)"
   ]
  },
  {
   "cell_type": "code",
   "execution_count": 395,
   "id": "989c1e6e-c085-4a82-9f0e-767a2a97f00c",
   "metadata": {},
   "outputs": [],
   "source": [
    "# SUMMARY ------------------------------------>>>"
   ]
  },
  {
   "cell_type": "code",
   "execution_count": 397,
   "id": "d481e4d5-7132-4359-8179-c5eecde6d71f",
   "metadata": {},
   "outputs": [
    {
     "data": {
      "text/plain": [
       "tensor([ 0,  5, 13, 13,  1])"
      ]
     },
     "execution_count": 397,
     "metadata": {},
     "output_type": "execute_result"
    }
   ],
   "source": [
    "xs"
   ]
  },
  {
   "cell_type": "code",
   "execution_count": 399,
   "id": "ba117f7f-8463-4ea7-a9fd-f727ba2e9bcc",
   "metadata": {},
   "outputs": [
    {
     "data": {
      "text/plain": [
       "tensor([ 5, 13, 13,  1,  0])"
      ]
     },
     "execution_count": 399,
     "metadata": {},
     "output_type": "execute_result"
    }
   ],
   "source": [
    "ys"
   ]
  },
  {
   "cell_type": "code",
   "execution_count": 401,
   "id": "5ee960d6-d1de-4e51-9952-8c900815a155",
   "metadata": {},
   "outputs": [],
   "source": [
    "# randomly initialize 27 neurons' weights. each neuron recieves 27 inputs\n",
    "g = torch.Generator().manual_seed(2147483647)\n",
    "W = torch.randn((27, 27), generator=g)"
   ]
  },
  {
   "cell_type": "code",
   "execution_count": 403,
   "id": "1ce01560-9d2b-42a2-bdd9-a59971003da5",
   "metadata": {},
   "outputs": [],
   "source": [
    "xenc = F.one_hot(xs, num_classes=27).float() # input to the network: one-hot encoding\n",
    "logits = xenc @ W # predict log-counts\n",
    "counts = logits.exp() # counts, equivalent to N\n",
    "probs = counts / counts.sum(1, keepdims=True) # probabilities for next character\n",
    "# btw: the last 2 lines here are together called a 'softmax'"
   ]
  },
  {
   "cell_type": "code",
   "execution_count": 405,
   "id": "1b3657f8-6789-4fb9-989a-ef355f889035",
   "metadata": {},
   "outputs": [
    {
     "data": {
      "text/plain": [
       "torch.Size([5, 27])"
      ]
     },
     "execution_count": 405,
     "metadata": {},
     "output_type": "execute_result"
    }
   ],
   "source": [
    "probs.shape"
   ]
  },
  {
   "cell_type": "markdown",
   "id": "28c04b36-8892-413c-ac33-c32e88631595",
   "metadata": {},
   "source": [
    "#### Loss Calculation"
   ]
  },
  {
   "cell_type": "code",
   "execution_count": 409,
   "id": "e07d03b3-f680-461a-afb9-774aa3180872",
   "metadata": {},
   "outputs": [
    {
     "name": "stdout",
     "output_type": "stream",
     "text": [
      "-------\n",
      "bigram example 1: .e (indexes 0,5)\n",
      "input to the neural net: 0\n",
      "output prob from the neural net: tensor([0.0607, 0.0100, 0.0123, 0.0042, 0.0168, 0.0123, 0.0027, 0.0232, 0.0137,\n",
      "        0.0313, 0.0079, 0.0278, 0.0091, 0.0082, 0.0500, 0.2378, 0.0603, 0.0025,\n",
      "        0.0249, 0.0055, 0.0339, 0.0109, 0.0029, 0.0198, 0.0118, 0.1537, 0.1459])\n",
      "label (actual next character): 5\n",
      "probability assigned to the net to the correct character: 0.01228625513613224\n",
      "log likelihood: -4.399273872375488\n",
      "negative log likelihood: 4.399273872375488\n",
      "-------\n",
      "bigram example 2: em (indexes 5,13)\n",
      "input to the neural net: 5\n",
      "output prob from the neural net: tensor([0.0290, 0.0796, 0.0248, 0.0521, 0.1989, 0.0289, 0.0094, 0.0335, 0.0097,\n",
      "        0.0301, 0.0702, 0.0228, 0.0115, 0.0181, 0.0108, 0.0315, 0.0291, 0.0045,\n",
      "        0.0916, 0.0215, 0.0486, 0.0300, 0.0501, 0.0027, 0.0118, 0.0022, 0.0472])\n",
      "label (actual next character): 13\n",
      "probability assigned to the net to the correct character: 0.018050700426101685\n",
      "log likelihood: -4.014570713043213\n",
      "negative log likelihood: 4.014570713043213\n",
      "-------\n",
      "bigram example 3: mm (indexes 13,13)\n",
      "input to the neural net: 13\n",
      "output prob from the neural net: tensor([0.0312, 0.0737, 0.0484, 0.0333, 0.0674, 0.0200, 0.0263, 0.0249, 0.1226,\n",
      "        0.0164, 0.0075, 0.0789, 0.0131, 0.0267, 0.0147, 0.0112, 0.0585, 0.0121,\n",
      "        0.0650, 0.0058, 0.0208, 0.0078, 0.0133, 0.0203, 0.1204, 0.0469, 0.0126])\n",
      "label (actual next character): 13\n",
      "probability assigned to the net to the correct character: 0.026691533625125885\n",
      "log likelihood: -3.623408794403076\n",
      "negative log likelihood: 3.623408794403076\n",
      "-------\n",
      "bigram example 4: ma (indexes 13,1)\n",
      "input to the neural net: 13\n",
      "output prob from the neural net: tensor([0.0312, 0.0737, 0.0484, 0.0333, 0.0674, 0.0200, 0.0263, 0.0249, 0.1226,\n",
      "        0.0164, 0.0075, 0.0789, 0.0131, 0.0267, 0.0147, 0.0112, 0.0585, 0.0121,\n",
      "        0.0650, 0.0058, 0.0208, 0.0078, 0.0133, 0.0203, 0.1204, 0.0469, 0.0126])\n",
      "label (actual next character): 1\n",
      "probability assigned to the net to the correct character: 0.07367686182260513\n",
      "log likelihood: -2.6080665588378906\n",
      "negative log likelihood: 2.6080665588378906\n",
      "-------\n",
      "bigram example 5: a. (indexes 1,0)\n",
      "input to the neural net: 1\n",
      "output prob from the neural net: tensor([0.0150, 0.0086, 0.0396, 0.0100, 0.0606, 0.0308, 0.1084, 0.0131, 0.0125,\n",
      "        0.0048, 0.1024, 0.0086, 0.0988, 0.0112, 0.0232, 0.0207, 0.0408, 0.0078,\n",
      "        0.0899, 0.0531, 0.0463, 0.0309, 0.0051, 0.0329, 0.0654, 0.0503, 0.0091])\n",
      "label (actual next character): 0\n",
      "probability assigned to the net to the correct character: 0.014977526850998402\n",
      "log likelihood: -4.201204299926758\n",
      "negative log likelihood: 4.201204299926758\n",
      "=============\n",
      "average negative log likelihood, i.e. loss =  3.7693049907684326\n"
     ]
    }
   ],
   "source": [
    "nlls = torch.zeros(5)\n",
    "for i in range(5):\n",
    "    # i-th bigram:\n",
    "    x = xs[i].item() # input character index\n",
    "    y = ys[i].item() # label character index \n",
    "    print('-------')\n",
    "    print(f'bigram example {i+1}: {itos[x]}{itos[y]} (indexes {x},{y})')\n",
    "    print('input to the neural net:', x)\n",
    "    print('output prob from the neural net:', probs[i])\n",
    "    print('label (actual next character):', y)\n",
    "    p = probs[i, y]\n",
    "    print('probability assigned to the net to the correct character:', p.item())\n",
    "    logp = torch.log(p)\n",
    "    print('log likelihood:', logp.item())\n",
    "    nll = -logp\n",
    "    print('negative log likelihood:', nll.item())\n",
    "    nlls[i] = nll\n",
    "print('=============')\n",
    "print('average negative log likelihood, i.e. loss = ', nlls.mean().item())\n",
    "    "
   ]
  },
  {
   "cell_type": "code",
   "execution_count": 412,
   "id": "fa068365-8937-4938-b475-3c6683773054",
   "metadata": {},
   "outputs": [],
   "source": [
    "# ________________!!! OPTIMIZATION !!! ________________"
   ]
  },
  {
   "cell_type": "code",
   "execution_count": 414,
   "id": "61e66c0b-d6e6-4c8b-8a6d-f9acc0b0760e",
   "metadata": {},
   "outputs": [
    {
     "data": {
      "text/plain": [
       "tensor([ 0,  5, 13, 13,  1])"
      ]
     },
     "execution_count": 414,
     "metadata": {},
     "output_type": "execute_result"
    }
   ],
   "source": [
    "xs"
   ]
  },
  {
   "cell_type": "code",
   "execution_count": 416,
   "id": "3cde22ea-8972-46d6-84ed-13fe5ab96124",
   "metadata": {},
   "outputs": [
    {
     "data": {
      "text/plain": [
       "tensor([ 5, 13, 13,  1,  0])"
      ]
     },
     "execution_count": 416,
     "metadata": {},
     "output_type": "execute_result"
    }
   ],
   "source": [
    "ys"
   ]
  },
  {
   "cell_type": "code",
   "execution_count": 452,
   "id": "681eba21-e926-4aa1-bfce-b9865458304b",
   "metadata": {},
   "outputs": [],
   "source": [
    "# randomly initialize 27 neurons' weights. each neuron recieves 27 inputs\n",
    "g = torch.Generator().manual_seed(2147483647)\n",
    "W = torch.randn((27, 27), generator=g, requires_grad=True)"
   ]
  },
  {
   "cell_type": "code",
   "execution_count": 454,
   "id": "fbcdc9d4-bc9f-4694-8a84-d346c3c2fa6f",
   "metadata": {},
   "outputs": [
    {
     "data": {
      "text/plain": [
       "tensor(3.7693, grad_fn=<NegBackward0>)"
      ]
     },
     "execution_count": 454,
     "metadata": {},
     "output_type": "execute_result"
    }
   ],
   "source": [
    "# Forward pass\n",
    "xenc = F.one_hot(xs, num_classes=27).float() # input to the network: one-hot encoding\n",
    "logits = xenc @ W # predict log-counts\n",
    "counts = logits.exp() # counts, equivalent to N\n",
    "probs = counts / counts.sum(1, keepdims=True)\n",
    "loss = -probs[torch.arange(5), ys].log().mean()\n",
    "loss"
   ]
  },
  {
   "cell_type": "code",
   "execution_count": 456,
   "id": "5c415bae-accf-46bf-9c18-0a674f7c4936",
   "metadata": {},
   "outputs": [],
   "source": [
    "# backward pass\n",
    "W.grad = None #set to zero the gradient\n",
    "loss.backward()\n"
   ]
  },
  {
   "cell_type": "code",
   "execution_count": 458,
   "id": "75ccbbfb-8f20-4791-af20-c9f3a8d4c4d8",
   "metadata": {},
   "outputs": [
    {
     "data": {
      "text/plain": [
       "tensor([[ 0.0121,  0.0020,  0.0025,  0.0008,  0.0034, -0.1975,  0.0005,  0.0046,\n",
       "          0.0027,  0.0063,  0.0016,  0.0056,  0.0018,  0.0016,  0.0100,  0.0476,\n",
       "          0.0121,  0.0005,  0.0050,  0.0011,  0.0068,  0.0022,  0.0006,  0.0040,\n",
       "          0.0024,  0.0307,  0.0292],\n",
       "        [-0.1970,  0.0017,  0.0079,  0.0020,  0.0121,  0.0062,  0.0217,  0.0026,\n",
       "          0.0025,  0.0010,  0.0205,  0.0017,  0.0198,  0.0022,  0.0046,  0.0041,\n",
       "          0.0082,  0.0016,  0.0180,  0.0106,  0.0093,  0.0062,  0.0010,  0.0066,\n",
       "          0.0131,  0.0101,  0.0018],\n",
       "        [ 0.0000,  0.0000,  0.0000,  0.0000,  0.0000,  0.0000,  0.0000,  0.0000,\n",
       "          0.0000,  0.0000,  0.0000,  0.0000,  0.0000,  0.0000,  0.0000,  0.0000,\n",
       "          0.0000,  0.0000,  0.0000,  0.0000,  0.0000,  0.0000,  0.0000,  0.0000,\n",
       "          0.0000,  0.0000,  0.0000],\n",
       "        [ 0.0000,  0.0000,  0.0000,  0.0000,  0.0000,  0.0000,  0.0000,  0.0000,\n",
       "          0.0000,  0.0000,  0.0000,  0.0000,  0.0000,  0.0000,  0.0000,  0.0000,\n",
       "          0.0000,  0.0000,  0.0000,  0.0000,  0.0000,  0.0000,  0.0000,  0.0000,\n",
       "          0.0000,  0.0000,  0.0000],\n",
       "        [ 0.0000,  0.0000,  0.0000,  0.0000,  0.0000,  0.0000,  0.0000,  0.0000,\n",
       "          0.0000,  0.0000,  0.0000,  0.0000,  0.0000,  0.0000,  0.0000,  0.0000,\n",
       "          0.0000,  0.0000,  0.0000,  0.0000,  0.0000,  0.0000,  0.0000,  0.0000,\n",
       "          0.0000,  0.0000,  0.0000],\n",
       "        [ 0.0058,  0.0159,  0.0050,  0.0104,  0.0398,  0.0058,  0.0019,  0.0067,\n",
       "          0.0019,  0.0060,  0.0140,  0.0046,  0.0023, -0.1964,  0.0022,  0.0063,\n",
       "          0.0058,  0.0009,  0.0183,  0.0043,  0.0097,  0.0060,  0.0100,  0.0005,\n",
       "          0.0024,  0.0004,  0.0094],\n",
       "        [ 0.0000,  0.0000,  0.0000,  0.0000,  0.0000,  0.0000,  0.0000,  0.0000,\n",
       "          0.0000,  0.0000,  0.0000,  0.0000,  0.0000,  0.0000,  0.0000,  0.0000,\n",
       "          0.0000,  0.0000,  0.0000,  0.0000,  0.0000,  0.0000,  0.0000,  0.0000,\n",
       "          0.0000,  0.0000,  0.0000],\n",
       "        [ 0.0000,  0.0000,  0.0000,  0.0000,  0.0000,  0.0000,  0.0000,  0.0000,\n",
       "          0.0000,  0.0000,  0.0000,  0.0000,  0.0000,  0.0000,  0.0000,  0.0000,\n",
       "          0.0000,  0.0000,  0.0000,  0.0000,  0.0000,  0.0000,  0.0000,  0.0000,\n",
       "          0.0000,  0.0000,  0.0000],\n",
       "        [ 0.0000,  0.0000,  0.0000,  0.0000,  0.0000,  0.0000,  0.0000,  0.0000,\n",
       "          0.0000,  0.0000,  0.0000,  0.0000,  0.0000,  0.0000,  0.0000,  0.0000,\n",
       "          0.0000,  0.0000,  0.0000,  0.0000,  0.0000,  0.0000,  0.0000,  0.0000,\n",
       "          0.0000,  0.0000,  0.0000],\n",
       "        [ 0.0000,  0.0000,  0.0000,  0.0000,  0.0000,  0.0000,  0.0000,  0.0000,\n",
       "          0.0000,  0.0000,  0.0000,  0.0000,  0.0000,  0.0000,  0.0000,  0.0000,\n",
       "          0.0000,  0.0000,  0.0000,  0.0000,  0.0000,  0.0000,  0.0000,  0.0000,\n",
       "          0.0000,  0.0000,  0.0000],\n",
       "        [ 0.0000,  0.0000,  0.0000,  0.0000,  0.0000,  0.0000,  0.0000,  0.0000,\n",
       "          0.0000,  0.0000,  0.0000,  0.0000,  0.0000,  0.0000,  0.0000,  0.0000,\n",
       "          0.0000,  0.0000,  0.0000,  0.0000,  0.0000,  0.0000,  0.0000,  0.0000,\n",
       "          0.0000,  0.0000,  0.0000],\n",
       "        [ 0.0000,  0.0000,  0.0000,  0.0000,  0.0000,  0.0000,  0.0000,  0.0000,\n",
       "          0.0000,  0.0000,  0.0000,  0.0000,  0.0000,  0.0000,  0.0000,  0.0000,\n",
       "          0.0000,  0.0000,  0.0000,  0.0000,  0.0000,  0.0000,  0.0000,  0.0000,\n",
       "          0.0000,  0.0000,  0.0000],\n",
       "        [ 0.0000,  0.0000,  0.0000,  0.0000,  0.0000,  0.0000,  0.0000,  0.0000,\n",
       "          0.0000,  0.0000,  0.0000,  0.0000,  0.0000,  0.0000,  0.0000,  0.0000,\n",
       "          0.0000,  0.0000,  0.0000,  0.0000,  0.0000,  0.0000,  0.0000,  0.0000,\n",
       "          0.0000,  0.0000,  0.0000],\n",
       "        [ 0.0125, -0.1705,  0.0194,  0.0133,  0.0270,  0.0080,  0.0105,  0.0100,\n",
       "          0.0490,  0.0066,  0.0030,  0.0316,  0.0052, -0.1893,  0.0059,  0.0045,\n",
       "          0.0234,  0.0049,  0.0260,  0.0023,  0.0083,  0.0031,  0.0053,  0.0081,\n",
       "          0.0482,  0.0187,  0.0051],\n",
       "        [ 0.0000,  0.0000,  0.0000,  0.0000,  0.0000,  0.0000,  0.0000,  0.0000,\n",
       "          0.0000,  0.0000,  0.0000,  0.0000,  0.0000,  0.0000,  0.0000,  0.0000,\n",
       "          0.0000,  0.0000,  0.0000,  0.0000,  0.0000,  0.0000,  0.0000,  0.0000,\n",
       "          0.0000,  0.0000,  0.0000],\n",
       "        [ 0.0000,  0.0000,  0.0000,  0.0000,  0.0000,  0.0000,  0.0000,  0.0000,\n",
       "          0.0000,  0.0000,  0.0000,  0.0000,  0.0000,  0.0000,  0.0000,  0.0000,\n",
       "          0.0000,  0.0000,  0.0000,  0.0000,  0.0000,  0.0000,  0.0000,  0.0000,\n",
       "          0.0000,  0.0000,  0.0000],\n",
       "        [ 0.0000,  0.0000,  0.0000,  0.0000,  0.0000,  0.0000,  0.0000,  0.0000,\n",
       "          0.0000,  0.0000,  0.0000,  0.0000,  0.0000,  0.0000,  0.0000,  0.0000,\n",
       "          0.0000,  0.0000,  0.0000,  0.0000,  0.0000,  0.0000,  0.0000,  0.0000,\n",
       "          0.0000,  0.0000,  0.0000],\n",
       "        [ 0.0000,  0.0000,  0.0000,  0.0000,  0.0000,  0.0000,  0.0000,  0.0000,\n",
       "          0.0000,  0.0000,  0.0000,  0.0000,  0.0000,  0.0000,  0.0000,  0.0000,\n",
       "          0.0000,  0.0000,  0.0000,  0.0000,  0.0000,  0.0000,  0.0000,  0.0000,\n",
       "          0.0000,  0.0000,  0.0000],\n",
       "        [ 0.0000,  0.0000,  0.0000,  0.0000,  0.0000,  0.0000,  0.0000,  0.0000,\n",
       "          0.0000,  0.0000,  0.0000,  0.0000,  0.0000,  0.0000,  0.0000,  0.0000,\n",
       "          0.0000,  0.0000,  0.0000,  0.0000,  0.0000,  0.0000,  0.0000,  0.0000,\n",
       "          0.0000,  0.0000,  0.0000],\n",
       "        [ 0.0000,  0.0000,  0.0000,  0.0000,  0.0000,  0.0000,  0.0000,  0.0000,\n",
       "          0.0000,  0.0000,  0.0000,  0.0000,  0.0000,  0.0000,  0.0000,  0.0000,\n",
       "          0.0000,  0.0000,  0.0000,  0.0000,  0.0000,  0.0000,  0.0000,  0.0000,\n",
       "          0.0000,  0.0000,  0.0000],\n",
       "        [ 0.0000,  0.0000,  0.0000,  0.0000,  0.0000,  0.0000,  0.0000,  0.0000,\n",
       "          0.0000,  0.0000,  0.0000,  0.0000,  0.0000,  0.0000,  0.0000,  0.0000,\n",
       "          0.0000,  0.0000,  0.0000,  0.0000,  0.0000,  0.0000,  0.0000,  0.0000,\n",
       "          0.0000,  0.0000,  0.0000],\n",
       "        [ 0.0000,  0.0000,  0.0000,  0.0000,  0.0000,  0.0000,  0.0000,  0.0000,\n",
       "          0.0000,  0.0000,  0.0000,  0.0000,  0.0000,  0.0000,  0.0000,  0.0000,\n",
       "          0.0000,  0.0000,  0.0000,  0.0000,  0.0000,  0.0000,  0.0000,  0.0000,\n",
       "          0.0000,  0.0000,  0.0000],\n",
       "        [ 0.0000,  0.0000,  0.0000,  0.0000,  0.0000,  0.0000,  0.0000,  0.0000,\n",
       "          0.0000,  0.0000,  0.0000,  0.0000,  0.0000,  0.0000,  0.0000,  0.0000,\n",
       "          0.0000,  0.0000,  0.0000,  0.0000,  0.0000,  0.0000,  0.0000,  0.0000,\n",
       "          0.0000,  0.0000,  0.0000],\n",
       "        [ 0.0000,  0.0000,  0.0000,  0.0000,  0.0000,  0.0000,  0.0000,  0.0000,\n",
       "          0.0000,  0.0000,  0.0000,  0.0000,  0.0000,  0.0000,  0.0000,  0.0000,\n",
       "          0.0000,  0.0000,  0.0000,  0.0000,  0.0000,  0.0000,  0.0000,  0.0000,\n",
       "          0.0000,  0.0000,  0.0000],\n",
       "        [ 0.0000,  0.0000,  0.0000,  0.0000,  0.0000,  0.0000,  0.0000,  0.0000,\n",
       "          0.0000,  0.0000,  0.0000,  0.0000,  0.0000,  0.0000,  0.0000,  0.0000,\n",
       "          0.0000,  0.0000,  0.0000,  0.0000,  0.0000,  0.0000,  0.0000,  0.0000,\n",
       "          0.0000,  0.0000,  0.0000],\n",
       "        [ 0.0000,  0.0000,  0.0000,  0.0000,  0.0000,  0.0000,  0.0000,  0.0000,\n",
       "          0.0000,  0.0000,  0.0000,  0.0000,  0.0000,  0.0000,  0.0000,  0.0000,\n",
       "          0.0000,  0.0000,  0.0000,  0.0000,  0.0000,  0.0000,  0.0000,  0.0000,\n",
       "          0.0000,  0.0000,  0.0000],\n",
       "        [ 0.0000,  0.0000,  0.0000,  0.0000,  0.0000,  0.0000,  0.0000,  0.0000,\n",
       "          0.0000,  0.0000,  0.0000,  0.0000,  0.0000,  0.0000,  0.0000,  0.0000,\n",
       "          0.0000,  0.0000,  0.0000,  0.0000,  0.0000,  0.0000,  0.0000,  0.0000,\n",
       "          0.0000,  0.0000,  0.0000]])"
      ]
     },
     "execution_count": 458,
     "metadata": {},
     "output_type": "execute_result"
    }
   ],
   "source": [
    "W.grad"
   ]
  },
  {
   "cell_type": "code",
   "execution_count": 460,
   "id": "f4115cde-63de-4523-923f-0e0368db873d",
   "metadata": {},
   "outputs": [
    {
     "data": {
      "text/plain": [
       "torch.Size([27, 27])"
      ]
     },
     "execution_count": 460,
     "metadata": {},
     "output_type": "execute_result"
    }
   ],
   "source": [
    "W.shape"
   ]
  },
  {
   "cell_type": "code",
   "execution_count": 462,
   "id": "c9249d0f-e919-4357-9574-c6c5449e3d0b",
   "metadata": {},
   "outputs": [
    {
     "data": {
      "text/plain": [
       "torch.Size([27, 27])"
      ]
     },
     "execution_count": 462,
     "metadata": {},
     "output_type": "execute_result"
    }
   ],
   "source": [
    "W.grad.shape"
   ]
  },
  {
   "cell_type": "code",
   "execution_count": 464,
   "id": "fa8c93c1-73e2-4b83-9894-1c763d18bc9d",
   "metadata": {},
   "outputs": [],
   "source": [
    "W.data += -0.1 * W.grad"
   ]
  },
  {
   "cell_type": "code",
   "execution_count": 469,
   "id": "314eaeab-e722-4a53-81fd-0c3521ba480b",
   "metadata": {},
   "outputs": [
    {
     "data": {
      "text/plain": [
       "tensor(3.7492, grad_fn=<NegBackward0>)"
      ]
     },
     "execution_count": 469,
     "metadata": {},
     "output_type": "execute_result"
    }
   ],
   "source": [
    "# Forward pass\n",
    "xenc = F.one_hot(xs, num_classes=27).float() # input to the network: one-hot encoding\n",
    "logits = xenc @ W # predict log-counts\n",
    "counts = logits.exp() # counts, equivalent to N\n",
    "probs = counts / counts.sum(1, keepdims=True)\n",
    "loss = -probs[torch.arange(5), ys].log().mean()\n",
    "loss "
   ]
  },
  {
   "cell_type": "markdown",
   "id": "4e7f0fb9-dc49-4c4b-baca-0412a072f565",
   "metadata": {},
   "source": [
    "**WOOHOO loss decrease a little - let's try few more times. rerun below 2 cells again and again to see the effect.**\n"
   ]
  },
  {
   "cell_type": "code",
   "execution_count": 721,
   "id": "1e9c9c58-8cc9-45a8-8753-2bb6053e2391",
   "metadata": {},
   "outputs": [],
   "source": [
    "# backward pass\n",
    "W.grad = None #set to zero the gradient\n",
    "loss.backward()\n",
    "W.data += -0.1 * W.grad"
   ]
  },
  {
   "cell_type": "code",
   "execution_count": 723,
   "id": "afd1b841-1478-433b-895b-bb82d6957657",
   "metadata": {},
   "outputs": [
    {
     "data": {
      "text/plain": [
       "tensor(2.6193, grad_fn=<NegBackward0>)"
      ]
     },
     "execution_count": 723,
     "metadata": {},
     "output_type": "execute_result"
    }
   ],
   "source": [
    "# Forward pass\n",
    "xenc = F.one_hot(xs, num_classes=27).float() # input to the network: one-hot encoding\n",
    "logits = xenc @ W # predict log-counts\n",
    "counts = logits.exp() # counts, equivalent to N\n",
    "probs = counts / counts.sum(1, keepdims=True)\n",
    "loss = -probs[torch.arange(5), ys].log().mean()\n",
    "loss"
   ]
  },
  {
   "cell_type": "code",
   "execution_count": 725,
   "id": "2f33dbda-64d0-4985-aca7-f28a857b6423",
   "metadata": {},
   "outputs": [],
   "source": [
    "# __________ !!! Optimization !!! yay, but this time actually _________________"
   ]
  },
  {
   "cell_type": "code",
   "execution_count": 727,
   "id": "2082b18d-0891-4963-9314-89bbb0abc3c7",
   "metadata": {},
   "outputs": [
    {
     "name": "stdout",
     "output_type": "stream",
     "text": [
      "number of examples:  275691\n"
     ]
    }
   ],
   "source": [
    "xs, ys = [], [] # inputs , targets \n",
    "for w in words:\n",
    "    chs = ['.'] + list(w) + ['.']\n",
    "    for ch1, ch2 in zip(chs, chs[1:]):\n",
    "        ix1 = stoi[ch1]\n",
    "        ix2 = stoi[ch2]\n",
    "        xs.append(ix1)\n",
    "        ys.append(ix2)\n",
    "\n",
    "xs = torch.tensor(xs)\n",
    "ys = torch.tensor(ys)\n",
    "num = xs.nelement()\n",
    "print('number of examples: ',num)\n",
    "# initialize the 'network'\n",
    "g = torch.Generator().manual_seed(2147483647)\n",
    "W = torch.randn((27, 27), generator=g, requires_grad=True)"
   ]
  },
  {
   "cell_type": "code",
   "execution_count": 828,
   "id": "47b36466-f570-45ca-b917-c54eccd43479",
   "metadata": {},
   "outputs": [
    {
     "name": "stdout",
     "output_type": "stream",
     "text": [
      "2.491358757019043\n",
      "2.49131441116333\n",
      "2.491270065307617\n",
      "2.4912264347076416\n",
      "2.491183042526245\n",
      "2.491140127182007\n",
      "2.491098165512085\n",
      "2.491056203842163\n",
      "2.4910147190093994\n",
      "2.490973711013794\n",
      "2.490933418273926\n",
      "2.4908933639526367\n",
      "2.4908535480499268\n",
      "2.490814447402954\n",
      "2.4907753467559814\n",
      "2.4907374382019043\n",
      "2.490699052810669\n",
      "2.490661382675171\n",
      "2.490624189376831\n",
      "2.4905874729156494\n",
      "2.490550994873047\n",
      "2.4905147552490234\n",
      "2.490478992462158\n",
      "2.490443468093872\n",
      "2.4904086589813232\n",
      "2.4903740882873535\n",
      "2.490339756011963\n",
      "2.4903054237365723\n",
      "2.490272045135498\n",
      "2.490238666534424\n",
      "2.490205764770508\n",
      "2.490172863006592\n",
      "2.490140676498413\n",
      "2.4901084899902344\n",
      "2.490076780319214\n",
      "2.4900450706481934\n",
      "2.490013837814331\n",
      "2.489982843399048\n",
      "2.489952564239502\n",
      "2.489921808242798\n",
      "2.48989200592041\n",
      "2.4898622035980225\n",
      "2.489832878112793\n",
      "2.4898035526275635\n",
      "2.489774465560913\n",
      "2.489745855331421\n",
      "2.489717721939087\n",
      "2.4896891117095947\n",
      "2.489661455154419\n",
      "2.489633321762085\n",
      "2.4896061420440674\n",
      "2.48957896232605\n",
      "2.4895520210266113\n",
      "2.4895248413085938\n",
      "2.4894983768463135\n",
      "2.4894721508026123\n",
      "2.4894461631774902\n",
      "2.4894204139709473\n",
      "2.4893946647644043\n",
      "2.4893691539764404\n",
      "2.4893441200256348\n",
      "2.489319086074829\n",
      "2.4892942905426025\n",
      "2.489269733428955\n",
      "2.4892451763153076\n",
      "2.4892210960388184\n",
      "2.489197015762329\n",
      "2.489173412322998\n",
      "2.489149808883667\n",
      "2.489126682281494\n",
      "2.489103078842163\n",
      "2.4890801906585693\n",
      "2.4890573024749756\n",
      "2.48903489112854\n",
      "2.4890124797821045\n",
      "2.48898983001709\n",
      "2.4889676570892334\n",
      "2.488945960998535\n",
      "2.488924026489258\n",
      "2.4889023303985596\n",
      "2.4888811111450195\n",
      "2.4888598918914795\n",
      "2.4888386726379395\n",
      "2.4888176918029785\n",
      "2.4887969493865967\n",
      "2.488776206970215\n",
      "2.488755941390991\n",
      "2.4887356758117676\n",
      "2.488715171813965\n",
      "2.4886953830718994\n",
      "2.488675355911255\n",
      "2.4886555671691895\n",
      "2.4886362552642822\n",
      "2.488616466522217\n",
      "2.4885973930358887\n",
      "2.4885783195495605\n",
      "2.4885592460632324\n",
      "2.4885401725769043\n",
      "2.4885215759277344\n",
      "2.4885029792785645\n",
      "2.4884843826293945\n",
      "2.4884660243988037\n",
      "2.488447666168213\n",
      "2.4884297847747803\n",
      "2.4884119033813477\n",
      "2.488394021987915\n",
      "2.4883761405944824\n",
      "2.488358736038208\n",
      "2.4883413314819336\n",
      "2.488323926925659\n",
      "2.488306999206543\n",
      "2.4882895946502686\n",
      "2.4882726669311523\n",
      "2.4882559776306152\n",
      "2.488239049911499\n",
      "2.488222360610962\n",
      "2.488205909729004\n",
      "2.488189697265625\n",
      "2.488173007965088\n",
      "2.488157033920288\n",
      "2.488140821456909\n",
      "2.4881248474121094\n",
      "2.4881088733673096\n",
      "2.488093614578247\n",
      "2.4880778789520264\n",
      "2.4880623817443848\n",
      "2.488046646118164\n",
      "2.4880313873291016\n",
      "2.488016128540039\n",
      "2.4880008697509766\n",
      "2.487985849380493\n",
      "2.487971067428589\n",
      "2.4879560470581055\n",
      "2.487941265106201\n",
      "2.487926721572876\n",
      "2.487912178039551\n",
      "2.4878976345062256\n",
      "2.4878830909729004\n",
      "2.4878690242767334\n",
      "2.4878547191619873\n",
      "2.4878408908843994\n",
      "2.4878265857696533\n",
      "2.4878127574920654\n",
      "2.4877986907958984\n",
      "2.4877853393554688\n",
      "2.487771511077881\n",
      "2.487757921218872\n",
      "2.487744092941284\n",
      "2.4877305030822754\n",
      "2.487717390060425\n",
      "2.487704277038574\n",
      "2.4876909255981445\n",
      "2.487678050994873\n",
      "2.4876646995544434\n",
      "2.487652063369751\n",
      "2.4876389503479004\n",
      "2.487626075744629\n",
      "2.4876134395599365\n",
      "2.487600803375244\n",
      "2.4875881671905518\n",
      "2.4875760078430176\n",
      "2.487563371658325\n",
      "2.487550973892212\n",
      "2.4875385761260986\n",
      "2.4875266551971436\n",
      "2.4875142574310303\n",
      "2.487502336502075\n",
      "2.48749041557312\n",
      "2.487478494644165\n",
      "2.487466812133789\n",
      "2.487454891204834\n",
      "2.487442970275879\n",
      "2.487431526184082\n",
      "2.487419843673706\n",
      "2.48740816116333\n",
      "2.487396717071533\n",
      "2.4873855113983154\n",
      "2.4873743057250977\n",
      "2.4873626232147217\n",
      "2.487351894378662\n",
      "2.4873404502868652\n",
      "2.4873294830322266\n",
      "2.487318754196167\n",
      "2.487307548522949\n",
      "2.4872965812683105\n",
      "2.487285852432251\n",
      "2.4872748851776123\n",
      "2.487264394760132\n",
      "2.4872539043426514\n",
      "2.4872429370880127\n",
      "2.4872324466705322\n",
      "2.48722243309021\n",
      "2.4872119426727295\n",
      "2.48720121383667\n",
      "2.4871907234191895\n",
      "2.4871809482574463\n",
      "2.487170696258545\n",
      "2.4871604442596436\n",
      "2.4871504306793213\n",
      "2.487140417098999\n"
     ]
    }
   ],
   "source": [
    "# Gradient Descent\n",
    "for k in range(200):\n",
    "    # forward pass\n",
    "    xenc = F.one_hot(xs, num_classes=27).float() # input to the network: one-hot encoding\n",
    "    logits = xenc @ W # predict log-counts\n",
    "    counts = logits.exp() # counts, equivalent to N\n",
    "    probs = counts / counts.sum(1, keepdims=True)\n",
    "    loss = -probs[torch.arange(num), ys].log().mean()\n",
    "    print(loss.item())\n",
    "\n",
    "    # backward pass\n",
    "    W.grad = None # set to zero the gradient\n",
    "    loss.backward()\n",
    "    # update \n",
    "    W.data += -50 * W.grad"
   ]
  },
  {
   "cell_type": "markdown",
   "id": "509f400a-e23a-40e3-b3d1-dfcaf4e11905",
   "metadata": {},
   "source": [
    "### Prediction"
   ]
  },
  {
   "cell_type": "code",
   "execution_count": 806,
   "id": "31714ea4-b207-4af0-806e-bfdfd5259293",
   "metadata": {},
   "outputs": [
    {
     "name": "stdout",
     "output_type": "stream",
     "text": [
      "junide.\n",
      "janasah.\n",
      "p.\n",
      "cfay.\n",
      "a.\n"
     ]
    }
   ],
   "source": [
    "# Finally, sample from the neural net model\n",
    "g = torch.Generator().manual_seed(2147483647)\n",
    "for i in range(5):\n",
    "    out = []\n",
    "    ix = 0\n",
    "    while True:\n",
    "        p = P[ix]\n",
    "        xenc = F.one_hot(torch.tensor([ix]), num_classes=27).float()\n",
    "        logits = xenc @ W\n",
    "        counts = logits.exp()\n",
    "        p = counts / counts.sum(1, keepdims=True)\n",
    "        ix = torch.multinomial(p, num_samples=1, replacement=True, generator=g).item()\n",
    "        out.append(itos[ix  ])\n",
    "        if ix == 0:\n",
    "            break\n",
    "    print(''.join(out))"
   ]
  },
  {
   "cell_type": "code",
   "execution_count": 820,
   "id": "ecb4e90a-c1b6-4786-96a0-ee3dacebb7c3",
   "metadata": {},
   "outputs": [
    {
     "data": {
      "text/plain": [
       "9"
      ]
     },
     "execution_count": 820,
     "metadata": {},
     "output_type": "execute_result"
    }
   ],
   "source": [
    "ix = torch.multinomial(p, num_samples=1, replacement=True, generator=g).item()\n",
    "ix"
   ]
  },
  {
   "cell_type": "code",
   "execution_count": 822,
   "id": "d3e97d06-ced3-43fa-acd6-aab3e1d4bee7",
   "metadata": {},
   "outputs": [
    {
     "data": {
      "text/plain": [
       "torch.Size([1, 27])"
      ]
     },
     "execution_count": 822,
     "metadata": {},
     "output_type": "execute_result"
    }
   ],
   "source": [
    "p.shape"
   ]
  },
  {
   "cell_type": "code",
   "execution_count": null,
   "id": "12be2ab1-172d-4ac9-adac-eac03a512ead",
   "metadata": {},
   "outputs": [],
   "source": []
  }
 ],
 "metadata": {
  "kernelspec": {
   "display_name": "Python [conda env:base] *",
   "language": "python",
   "name": "conda-base-py"
  },
  "language_info": {
   "codemirror_mode": {
    "name": "ipython",
    "version": 3
   },
   "file_extension": ".py",
   "mimetype": "text/x-python",
   "name": "python",
   "nbconvert_exporter": "python",
   "pygments_lexer": "ipython3",
   "version": "3.12.7"
  }
 },
 "nbformat": 4,
 "nbformat_minor": 5
}
